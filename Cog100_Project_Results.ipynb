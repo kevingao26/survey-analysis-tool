{
  "nbformat": 4,
  "nbformat_minor": 0,
  "metadata": {
    "colab": {
      "name": "Cog100 Project Results.ipynb",
      "provenance": [],
      "collapsed_sections": [],
      "toc_visible": true
    },
    "kernelspec": {
      "name": "python3",
      "display_name": "Python 3"
    },
    "language_info": {
      "name": "python"
    }
  },
  "cells": [
    {
      "cell_type": "markdown",
      "metadata": {
        "id": "vZjDKXMKoBZg"
      },
      "source": [
        "# Easier navigation:\n",
        "\n",
        "------------------------------------\n",
        "## 0. <a href='#col'>Columns</a>\n",
        "## 1. <a href='#setup'>Setup</a>\n",
        "------------------------------------\n",
        "## 2. <a href='#pca'>PCA</a>\n",
        "## 3. <a href='#a'>Fixed Entry Feature Investigation</a>\n",
        "## 4. <a href='#b'>Variable Entry Feature Investigation</a>\n",
        "## 5. <a href='#c'>Other</a>"
      ]
    },
    {
      "cell_type": "markdown",
      "metadata": {
        "id": "booqic6gosf0"
      },
      "source": [
        "<a name='col'></a>\n",
        "# 0. Columns\n",
        "\n",
        "0. Timestamp\n",
        "1. How many units are you currently taking?\n",
        "2. How old are you?\n",
        "3. What's your major? (\"n/a\" if not applicable, otherwise capitalize first letter, ex. \"Biology\")\n",
        "4. On a scale from 1 to 10 how productive do you think you were today?  \n",
        "5. How many assignments/tasks have you accomplished today? (Give in the form of a fraction or percentage)\n",
        "6. What is your average daily screen time?  (hours)\n",
        "7. What are the top apps used\n",
        "8. What social media platforms do you use the most? \n",
        "9. How much in total daily? weekly?\n",
        "10. Are you listening to anything right now? \n",
        "11. What music genre do you prefer to listen to?\n",
        "12. In general are you an athletic/fit person? \n",
        "13. How many hours did you spend exercising today?\n",
        "14. How many times did you exercise this week?\n",
        "15. Do you try to stay fit? \n",
        "16. Why do you exercise? \n",
        "17. How much do you drink on average each time? (# of drinks)\n",
        "18. When was the last time you consumed an alcoholic beverage?\n",
        "19. Why do you drink?\n",
        "20. How much sleep did you get last night? \n",
        "21. How much sleep do you get on average? \n",
        "22. How much sleep do you wish to get on average?\n",
        "23. Do you take naps regularly? \n",
        "24. What is the date?\n",
        "25. What is the time right now? \n",
        "26. On a scale of 1 to 10, how stressed do you feel right now?\n",
        "27. On a scale of 1 to 10, how stressed have you been on average in the past 6 months?\n",
        "28. Are you a vegetarian/vegan? \n",
        "29. Do you have any dietary restrictions?\n",
        "30. Number Memory\n",
        "31. Sequence Memory\n",
        "32. Visual Memory\n",
        "33. Memory Sum"
      ]
    },
    {
      "cell_type": "markdown",
      "metadata": {
        "id": "iz_mD2xIh5cd"
      },
      "source": [
        "<a name='setup'></a>\n",
        "# 1. Setting up table\n",
        "\n",
        "Given that we only have ~50 entries, it'd probably be easier to manually edit bad entries than to have to correct it using regex, etc.\n",
        "\n",
        "A lot of free response columns don't seem very useful, but if you want to investigate it you can edit the data to fit a certain form."
      ]
    },
    {
      "cell_type": "code",
      "metadata": {
        "id": "-kZplbLjfqJQ"
      },
      "source": [
        "import numpy as np\n",
        "import pandas as pd\n",
        "import matplotlib\n",
        "import matplotlib.pyplot as plt\n",
        "import seaborn as sns\n",
        "from mpl_toolkits.mplot3d import Axes3D\n",
        "sns.set()\n",
        "plt.style.use('fivethirtyeight')\n",
        "import zipfile\n",
        "import os # Used to interact with the file system\n",
        "import re\n",
        "from copy import deepcopy\n",
        "from tabulate import tabulate\n",
        "import plotly.express as px\n",
        "\n",
        "import sklearn\n",
        "import sklearn.datasets\n",
        "import sklearn.linear_model\n",
        "from sklearn.model_selection import train_test_split\n",
        "from sklearn.linear_model import LogisticRegressionCV\n",
        "from sklearn.linear_model import LogisticRegression\n",
        "from sklearn import linear_model as lm\n",
        "from sklearn.feature_extraction import DictVectorizer\n",
        "from IPython.display import display, HTML\n",
        "import warnings\n",
        "warnings.filterwarnings('ignore')\n",
        "# Note: If you're having problems with the 3d scatter plots, uncomment the two␣\n",
        "#,→lines below, and you should see a version that\n",
        "# number that is at least 4.1.1.\n",
        "# import plotly\n",
        "# plotly.__version__\n"
      ],
      "execution_count": null,
      "outputs": []
    },
    {
      "cell_type": "code",
      "metadata": {
        "id": "N2EGpmrLg-3P"
      },
      "source": [
        "from google.colab import auth\n",
        "auth.authenticate_user()\n",
        "\n",
        "from googleapiclient.discovery import build\n",
        "service = build('drive', 'v3')"
      ],
      "execution_count": null,
      "outputs": []
    },
    {
      "cell_type": "code",
      "metadata": {
        "id": "7KQd_Sg7hAXC",
        "colab": {
          "base_uri": "https://localhost:8080/"
        },
        "outputId": "efb0dfd1-4bb3-4675-8344-36856320f1e3"
      },
      "source": [
        "# Run this to mount the Notebook in your Google Drive account \n",
        "from google.colab import drive\n",
        "#drive.mount('/content/drive')\n",
        "drive.mount('/content/drive', force_remount=True)"
      ],
      "execution_count": null,
      "outputs": [
        {
          "output_type": "stream",
          "text": [
            "Mounted at /content/drive\n"
          ],
          "name": "stdout"
        }
      ]
    },
    {
      "cell_type": "markdown",
      "metadata": {
        "id": "yPfhAdtphNo-"
      },
      "source": [
        "Specify path for CSV file."
      ]
    },
    {
      "cell_type": "code",
      "metadata": {
        "id": "UwqXuXikhO1h"
      },
      "source": [
        "path = \"/content/drive/My Drive/CogSci C100/Cog Group Project/Cogsci100 Survey  - cleaned columns.csv\""
      ],
      "execution_count": null,
      "outputs": []
    },
    {
      "cell_type": "code",
      "metadata": {
        "id": "j0M2lZ5thwhL",
        "colab": {
          "base_uri": "https://localhost:8080/",
          "height": 564
        },
        "outputId": "f188e018-ba90-4752-b150-b217a0e6a1cd"
      },
      "source": [
        "df = pd.read_csv(path)\n",
        "df.head()"
      ],
      "execution_count": null,
      "outputs": [
        {
          "output_type": "execute_result",
          "data": {
            "text/html": [
              "<div>\n",
              "<style scoped>\n",
              "    .dataframe tbody tr th:only-of-type {\n",
              "        vertical-align: middle;\n",
              "    }\n",
              "\n",
              "    .dataframe tbody tr th {\n",
              "        vertical-align: top;\n",
              "    }\n",
              "\n",
              "    .dataframe thead th {\n",
              "        text-align: right;\n",
              "    }\n",
              "</style>\n",
              "<table border=\"1\" class=\"dataframe\">\n",
              "  <thead>\n",
              "    <tr style=\"text-align: right;\">\n",
              "      <th></th>\n",
              "      <th>Timestamp</th>\n",
              "      <th>How many units are you currently taking?</th>\n",
              "      <th>How old are you?</th>\n",
              "      <th>What's your major? (\"n/a\" if not applicable, otherwise capitalize first letter, ex. \"Biology\")</th>\n",
              "      <th>On a scale from 1 to 10 how productive do you think you were today?</th>\n",
              "      <th>How many assignments/tasks have you accomplished today? (Give in the form of a fraction or percentage)</th>\n",
              "      <th>What is your average daily screen time?  (hours)</th>\n",
              "      <th>What are the top apps used</th>\n",
              "      <th>What social media platforms do you use the most?</th>\n",
              "      <th>How much in total weekly?</th>\n",
              "      <th>Are you listening to anything right now?</th>\n",
              "      <th>What music genre do you prefer to listen to?</th>\n",
              "      <th>In general are you an athletic/fit person?</th>\n",
              "      <th>How many hours did you spend exercising today?</th>\n",
              "      <th>How many times did you exercise this week?</th>\n",
              "      <th>Do you try to stay fit?</th>\n",
              "      <th>Why do you exercise?</th>\n",
              "      <th>How much do you drink on average each time? (# of drinks)</th>\n",
              "      <th>When was the last time you consumed an alcoholic beverage?</th>\n",
              "      <th>Why do you drink?</th>\n",
              "      <th>How much sleep did you get last night?</th>\n",
              "      <th>How much sleep do you get on average?</th>\n",
              "      <th>How much sleep do you wish to get on average?</th>\n",
              "      <th>Do you take naps regularly?</th>\n",
              "      <th>What is the date?</th>\n",
              "      <th>What is the time right now?</th>\n",
              "      <th>On a scale of 1 to 10, how stressed do you feel right now?</th>\n",
              "      <th>On a scale of 1 to 10, how stressed have you been on average in the past 6 months?</th>\n",
              "      <th>Are you a vegetarian/vegan?</th>\n",
              "      <th>Do you have any dietary restrictions?</th>\n",
              "      <th>Number Memory</th>\n",
              "      <th>Sequence Memory</th>\n",
              "      <th>Visual Memory</th>\n",
              "    </tr>\n",
              "  </thead>\n",
              "  <tbody>\n",
              "    <tr>\n",
              "      <th>0</th>\n",
              "      <td>2021/03/17 6:41:47 PM MDT</td>\n",
              "      <td>19</td>\n",
              "      <td>18</td>\n",
              "      <td>Chemistry</td>\n",
              "      <td>8</td>\n",
              "      <td>2/5</td>\n",
              "      <td>6-8</td>\n",
              "      <td>Tiktok and Snapchat</td>\n",
              "      <td>Youtube;Instagram;TikTok;Snapchat</td>\n",
              "      <td>30</td>\n",
              "      <td>Yes</td>\n",
              "      <td>Pop</td>\n",
              "      <td>Yes</td>\n",
              "      <td>0-1 hours</td>\n",
              "      <td>3</td>\n",
              "      <td>Yes</td>\n",
              "      <td>To stay healthy</td>\n",
              "      <td>5</td>\n",
              "      <td>Last week</td>\n",
              "      <td>Social</td>\n",
              "      <td>6</td>\n",
              "      <td>8</td>\n",
              "      <td>8 - 10 hrs</td>\n",
              "      <td>No</td>\n",
              "      <td>2021-03-17</td>\n",
              "      <td>20:41</td>\n",
              "      <td>3</td>\n",
              "      <td>6</td>\n",
              "      <td>No</td>\n",
              "      <td>Nope</td>\n",
              "      <td>10</td>\n",
              "      <td>10</td>\n",
              "      <td>10</td>\n",
              "    </tr>\n",
              "    <tr>\n",
              "      <th>1</th>\n",
              "      <td>2021/03/17 6:46:26 PM MDT</td>\n",
              "      <td>16</td>\n",
              "      <td>19</td>\n",
              "      <td>Business</td>\n",
              "      <td>3</td>\n",
              "      <td>1/10</td>\n",
              "      <td>4-6</td>\n",
              "      <td>Tiktok Instagram Netflix</td>\n",
              "      <td>Instagram</td>\n",
              "      <td>44</td>\n",
              "      <td>Yes</td>\n",
              "      <td>EDM</td>\n",
              "      <td>Yes</td>\n",
              "      <td>0-1 hours</td>\n",
              "      <td>5</td>\n",
              "      <td>Yes</td>\n",
              "      <td>For myself looks health</td>\n",
              "      <td>7</td>\n",
              "      <td>Last month</td>\n",
              "      <td>it’s enjoyable</td>\n",
              "      <td>7</td>\n",
              "      <td>6</td>\n",
              "      <td>8 - 10 hrs</td>\n",
              "      <td>No</td>\n",
              "      <td>2021-03-17</td>\n",
              "      <td>20:41</td>\n",
              "      <td>8</td>\n",
              "      <td>2</td>\n",
              "      <td>No</td>\n",
              "      <td>Nope</td>\n",
              "      <td>9</td>\n",
              "      <td>8</td>\n",
              "      <td>9</td>\n",
              "    </tr>\n",
              "    <tr>\n",
              "      <th>2</th>\n",
              "      <td>2021/03/17 6:52:18 PM MDT</td>\n",
              "      <td>15</td>\n",
              "      <td>19</td>\n",
              "      <td>Health Science</td>\n",
              "      <td>8</td>\n",
              "      <td>3/5</td>\n",
              "      <td>4-6</td>\n",
              "      <td>TikTok, Instagram</td>\n",
              "      <td>Youtube;Instagram;TikTok;Snapchat</td>\n",
              "      <td>44</td>\n",
              "      <td>Yes</td>\n",
              "      <td>good music.</td>\n",
              "      <td>No</td>\n",
              "      <td>0-1 hours</td>\n",
              "      <td>2</td>\n",
              "      <td>No</td>\n",
              "      <td>i don’t</td>\n",
              "      <td>2</td>\n",
              "      <td>Last 2 days</td>\n",
              "      <td>life feels fuzzy idk</td>\n",
              "      <td>8</td>\n",
              "      <td>6</td>\n",
              "      <td>8 - 10 hrs</td>\n",
              "      <td>No</td>\n",
              "      <td>2021-03-17</td>\n",
              "      <td>20:47</td>\n",
              "      <td>9</td>\n",
              "      <td>10</td>\n",
              "      <td>No</td>\n",
              "      <td>milk in the morning makes me doodoo</td>\n",
              "      <td>8</td>\n",
              "      <td>6</td>\n",
              "      <td>11</td>\n",
              "    </tr>\n",
              "    <tr>\n",
              "      <th>3</th>\n",
              "      <td>2021/03/17 6:58:38 PM MDT</td>\n",
              "      <td>17</td>\n",
              "      <td>19</td>\n",
              "      <td>Computer Science</td>\n",
              "      <td>7</td>\n",
              "      <td>1</td>\n",
              "      <td>6-8</td>\n",
              "      <td>YouTube, Messenger, Chrome</td>\n",
              "      <td>Youtube;Messenger</td>\n",
              "      <td>20</td>\n",
              "      <td>No</td>\n",
              "      <td>Electronic</td>\n",
              "      <td>No</td>\n",
              "      <td>1-2 hours</td>\n",
              "      <td>4</td>\n",
              "      <td>Yes</td>\n",
              "      <td>Health</td>\n",
              "      <td>2</td>\n",
              "      <td>Last week</td>\n",
              "      <td>Escape the pain</td>\n",
              "      <td>7</td>\n",
              "      <td>7</td>\n",
              "      <td>8 - 10 hrs</td>\n",
              "      <td>Yes</td>\n",
              "      <td>2021-03-17</td>\n",
              "      <td>20:56</td>\n",
              "      <td>7</td>\n",
              "      <td>8</td>\n",
              "      <td>No</td>\n",
              "      <td>No</td>\n",
              "      <td>11</td>\n",
              "      <td>9</td>\n",
              "      <td>9</td>\n",
              "    </tr>\n",
              "    <tr>\n",
              "      <th>4</th>\n",
              "      <td>2021/03/17 7:04:52 PM MDT</td>\n",
              "      <td>16</td>\n",
              "      <td>20</td>\n",
              "      <td>Business Admin &amp; Econ</td>\n",
              "      <td>5</td>\n",
              "      <td>1/2</td>\n",
              "      <td>4-6</td>\n",
              "      <td>Instagram, Tiktok</td>\n",
              "      <td>Facebook;Youtube;Instagram;TikTok;Snapchat;Dis...</td>\n",
              "      <td>48</td>\n",
              "      <td>No</td>\n",
              "      <td>Rap, EDM</td>\n",
              "      <td>Yes</td>\n",
              "      <td>0-1 hours</td>\n",
              "      <td>5</td>\n",
              "      <td>Yes</td>\n",
              "      <td>To stay slim and athletic</td>\n",
              "      <td>8</td>\n",
              "      <td>Last 2 days</td>\n",
              "      <td>To have fun and release</td>\n",
              "      <td>7</td>\n",
              "      <td>8</td>\n",
              "      <td>8 - 10 hrs</td>\n",
              "      <td>No</td>\n",
              "      <td>2021-03-17</td>\n",
              "      <td>14:56</td>\n",
              "      <td>8</td>\n",
              "      <td>6</td>\n",
              "      <td>No</td>\n",
              "      <td>Nope</td>\n",
              "      <td>10</td>\n",
              "      <td>16</td>\n",
              "      <td>11</td>\n",
              "    </tr>\n",
              "  </tbody>\n",
              "</table>\n",
              "</div>"
            ],
            "text/plain": [
              "                   Timestamp  ...  Visual Memory\n",
              "0  2021/03/17 6:41:47 PM MDT  ...             10\n",
              "1  2021/03/17 6:46:26 PM MDT  ...              9\n",
              "2  2021/03/17 6:52:18 PM MDT  ...             11\n",
              "3  2021/03/17 6:58:38 PM MDT  ...              9\n",
              "4  2021/03/17 7:04:52 PM MDT  ...             11\n",
              "\n",
              "[5 rows x 33 columns]"
            ]
          },
          "metadata": {
            "tags": []
          },
          "execution_count": 57
        }
      ]
    },
    {
      "cell_type": "markdown",
      "metadata": {
        "id": "LvjIMF4bvz7T"
      },
      "source": [
        "### 1.1 Print columns\n",
        "\n",
        "Uncomment print line to print all columns/numbers to replace with section 0."
      ]
    },
    {
      "cell_type": "code",
      "metadata": {
        "id": "fHwuKCQBkiFW"
      },
      "source": [
        "from pprint import pprint\n",
        "ctt = 0\n",
        "for i in df.columns:\n",
        "  #print(str(ctt) + \". \" + i)\n",
        "  ctt += 1"
      ],
      "execution_count": null,
      "outputs": []
    },
    {
      "cell_type": "code",
      "metadata": {
        "colab": {
          "base_uri": "https://localhost:8080/",
          "height": 479
        },
        "id": "CKOA3eBalWvu",
        "outputId": "3d71376d-627c-4ac7-9594-b14e9760619e"
      },
      "source": [
        "dict={}\n",
        "for i in np.arange(33):\n",
        "  dict[i] = df.columns[i]\n",
        "df = df.rename(columns={x:y for x,y in zip(df.columns,range(0,len(df.columns)))})\n",
        "df[33] = df[30] + df[31] + df[32]\n",
        "dict[33] = \"Memory Sum\"\n",
        "df.head()"
      ],
      "execution_count": null,
      "outputs": [
        {
          "output_type": "execute_result",
          "data": {
            "text/html": [
              "<div>\n",
              "<style scoped>\n",
              "    .dataframe tbody tr th:only-of-type {\n",
              "        vertical-align: middle;\n",
              "    }\n",
              "\n",
              "    .dataframe tbody tr th {\n",
              "        vertical-align: top;\n",
              "    }\n",
              "\n",
              "    .dataframe thead th {\n",
              "        text-align: right;\n",
              "    }\n",
              "</style>\n",
              "<table border=\"1\" class=\"dataframe\">\n",
              "  <thead>\n",
              "    <tr style=\"text-align: right;\">\n",
              "      <th></th>\n",
              "      <th>0</th>\n",
              "      <th>1</th>\n",
              "      <th>2</th>\n",
              "      <th>3</th>\n",
              "      <th>4</th>\n",
              "      <th>5</th>\n",
              "      <th>6</th>\n",
              "      <th>7</th>\n",
              "      <th>8</th>\n",
              "      <th>9</th>\n",
              "      <th>10</th>\n",
              "      <th>11</th>\n",
              "      <th>12</th>\n",
              "      <th>13</th>\n",
              "      <th>14</th>\n",
              "      <th>15</th>\n",
              "      <th>16</th>\n",
              "      <th>17</th>\n",
              "      <th>18</th>\n",
              "      <th>19</th>\n",
              "      <th>20</th>\n",
              "      <th>21</th>\n",
              "      <th>22</th>\n",
              "      <th>23</th>\n",
              "      <th>24</th>\n",
              "      <th>25</th>\n",
              "      <th>26</th>\n",
              "      <th>27</th>\n",
              "      <th>28</th>\n",
              "      <th>29</th>\n",
              "      <th>30</th>\n",
              "      <th>31</th>\n",
              "      <th>32</th>\n",
              "      <th>33</th>\n",
              "    </tr>\n",
              "  </thead>\n",
              "  <tbody>\n",
              "    <tr>\n",
              "      <th>0</th>\n",
              "      <td>2021/03/17 6:41:47 PM MDT</td>\n",
              "      <td>19</td>\n",
              "      <td>18</td>\n",
              "      <td>Chemistry</td>\n",
              "      <td>8</td>\n",
              "      <td>2/5</td>\n",
              "      <td>6-8</td>\n",
              "      <td>Tiktok and Snapchat</td>\n",
              "      <td>Youtube;Instagram;TikTok;Snapchat</td>\n",
              "      <td>30</td>\n",
              "      <td>Yes</td>\n",
              "      <td>Pop</td>\n",
              "      <td>Yes</td>\n",
              "      <td>0-1 hours</td>\n",
              "      <td>3</td>\n",
              "      <td>Yes</td>\n",
              "      <td>To stay healthy</td>\n",
              "      <td>5</td>\n",
              "      <td>Last week</td>\n",
              "      <td>Social</td>\n",
              "      <td>6</td>\n",
              "      <td>8</td>\n",
              "      <td>8 - 10 hrs</td>\n",
              "      <td>No</td>\n",
              "      <td>2021-03-17</td>\n",
              "      <td>20:41</td>\n",
              "      <td>3</td>\n",
              "      <td>6</td>\n",
              "      <td>No</td>\n",
              "      <td>Nope</td>\n",
              "      <td>10</td>\n",
              "      <td>10</td>\n",
              "      <td>10</td>\n",
              "      <td>30</td>\n",
              "    </tr>\n",
              "    <tr>\n",
              "      <th>1</th>\n",
              "      <td>2021/03/17 6:46:26 PM MDT</td>\n",
              "      <td>16</td>\n",
              "      <td>19</td>\n",
              "      <td>Business</td>\n",
              "      <td>3</td>\n",
              "      <td>1/10</td>\n",
              "      <td>4-6</td>\n",
              "      <td>Tiktok Instagram Netflix</td>\n",
              "      <td>Instagram</td>\n",
              "      <td>44</td>\n",
              "      <td>Yes</td>\n",
              "      <td>EDM</td>\n",
              "      <td>Yes</td>\n",
              "      <td>0-1 hours</td>\n",
              "      <td>5</td>\n",
              "      <td>Yes</td>\n",
              "      <td>For myself looks health</td>\n",
              "      <td>7</td>\n",
              "      <td>Last month</td>\n",
              "      <td>it’s enjoyable</td>\n",
              "      <td>7</td>\n",
              "      <td>6</td>\n",
              "      <td>8 - 10 hrs</td>\n",
              "      <td>No</td>\n",
              "      <td>2021-03-17</td>\n",
              "      <td>20:41</td>\n",
              "      <td>8</td>\n",
              "      <td>2</td>\n",
              "      <td>No</td>\n",
              "      <td>Nope</td>\n",
              "      <td>9</td>\n",
              "      <td>8</td>\n",
              "      <td>9</td>\n",
              "      <td>26</td>\n",
              "    </tr>\n",
              "    <tr>\n",
              "      <th>2</th>\n",
              "      <td>2021/03/17 6:52:18 PM MDT</td>\n",
              "      <td>15</td>\n",
              "      <td>19</td>\n",
              "      <td>Health Science</td>\n",
              "      <td>8</td>\n",
              "      <td>3/5</td>\n",
              "      <td>4-6</td>\n",
              "      <td>TikTok, Instagram</td>\n",
              "      <td>Youtube;Instagram;TikTok;Snapchat</td>\n",
              "      <td>44</td>\n",
              "      <td>Yes</td>\n",
              "      <td>good music.</td>\n",
              "      <td>No</td>\n",
              "      <td>0-1 hours</td>\n",
              "      <td>2</td>\n",
              "      <td>No</td>\n",
              "      <td>i don’t</td>\n",
              "      <td>2</td>\n",
              "      <td>Last 2 days</td>\n",
              "      <td>life feels fuzzy idk</td>\n",
              "      <td>8</td>\n",
              "      <td>6</td>\n",
              "      <td>8 - 10 hrs</td>\n",
              "      <td>No</td>\n",
              "      <td>2021-03-17</td>\n",
              "      <td>20:47</td>\n",
              "      <td>9</td>\n",
              "      <td>10</td>\n",
              "      <td>No</td>\n",
              "      <td>milk in the morning makes me doodoo</td>\n",
              "      <td>8</td>\n",
              "      <td>6</td>\n",
              "      <td>11</td>\n",
              "      <td>25</td>\n",
              "    </tr>\n",
              "    <tr>\n",
              "      <th>3</th>\n",
              "      <td>2021/03/17 6:58:38 PM MDT</td>\n",
              "      <td>17</td>\n",
              "      <td>19</td>\n",
              "      <td>Computer Science</td>\n",
              "      <td>7</td>\n",
              "      <td>1</td>\n",
              "      <td>6-8</td>\n",
              "      <td>YouTube, Messenger, Chrome</td>\n",
              "      <td>Youtube;Messenger</td>\n",
              "      <td>20</td>\n",
              "      <td>No</td>\n",
              "      <td>Electronic</td>\n",
              "      <td>No</td>\n",
              "      <td>1-2 hours</td>\n",
              "      <td>4</td>\n",
              "      <td>Yes</td>\n",
              "      <td>Health</td>\n",
              "      <td>2</td>\n",
              "      <td>Last week</td>\n",
              "      <td>Escape the pain</td>\n",
              "      <td>7</td>\n",
              "      <td>7</td>\n",
              "      <td>8 - 10 hrs</td>\n",
              "      <td>Yes</td>\n",
              "      <td>2021-03-17</td>\n",
              "      <td>20:56</td>\n",
              "      <td>7</td>\n",
              "      <td>8</td>\n",
              "      <td>No</td>\n",
              "      <td>No</td>\n",
              "      <td>11</td>\n",
              "      <td>9</td>\n",
              "      <td>9</td>\n",
              "      <td>29</td>\n",
              "    </tr>\n",
              "    <tr>\n",
              "      <th>4</th>\n",
              "      <td>2021/03/17 7:04:52 PM MDT</td>\n",
              "      <td>16</td>\n",
              "      <td>20</td>\n",
              "      <td>Business Admin &amp; Econ</td>\n",
              "      <td>5</td>\n",
              "      <td>1/2</td>\n",
              "      <td>4-6</td>\n",
              "      <td>Instagram, Tiktok</td>\n",
              "      <td>Facebook;Youtube;Instagram;TikTok;Snapchat;Dis...</td>\n",
              "      <td>48</td>\n",
              "      <td>No</td>\n",
              "      <td>Rap, EDM</td>\n",
              "      <td>Yes</td>\n",
              "      <td>0-1 hours</td>\n",
              "      <td>5</td>\n",
              "      <td>Yes</td>\n",
              "      <td>To stay slim and athletic</td>\n",
              "      <td>8</td>\n",
              "      <td>Last 2 days</td>\n",
              "      <td>To have fun and release</td>\n",
              "      <td>7</td>\n",
              "      <td>8</td>\n",
              "      <td>8 - 10 hrs</td>\n",
              "      <td>No</td>\n",
              "      <td>2021-03-17</td>\n",
              "      <td>14:56</td>\n",
              "      <td>8</td>\n",
              "      <td>6</td>\n",
              "      <td>No</td>\n",
              "      <td>Nope</td>\n",
              "      <td>10</td>\n",
              "      <td>16</td>\n",
              "      <td>11</td>\n",
              "      <td>37</td>\n",
              "    </tr>\n",
              "  </tbody>\n",
              "</table>\n",
              "</div>"
            ],
            "text/plain": [
              "                          0   1   2                      3   ...  30  31  32  33\n",
              "0  2021/03/17 6:41:47 PM MDT  19  18              Chemistry  ...  10  10  10  30\n",
              "1  2021/03/17 6:46:26 PM MDT  16  19               Business  ...   9   8   9  26\n",
              "2  2021/03/17 6:52:18 PM MDT  15  19         Health Science  ...   8   6  11  25\n",
              "3  2021/03/17 6:58:38 PM MDT  17  19       Computer Science  ...  11   9   9  29\n",
              "4  2021/03/17 7:04:52 PM MDT  16  20  Business Admin & Econ  ...  10  16  11  37\n",
              "\n",
              "[5 rows x 34 columns]"
            ]
          },
          "metadata": {
            "tags": []
          },
          "execution_count": 59
        }
      ]
    },
    {
      "cell_type": "code",
      "metadata": {
        "colab": {
          "base_uri": "https://localhost:8080/"
        },
        "id": "DRmiJdLfyD3l",
        "outputId": "a43edf13-eb22-4739-885e-d8a968265206"
      },
      "source": [
        "dict"
      ],
      "execution_count": null,
      "outputs": [
        {
          "output_type": "execute_result",
          "data": {
            "text/plain": [
              "{0: 'Timestamp',\n",
              " 1: 'How many units are you currently taking?',\n",
              " 2: 'How old are you?',\n",
              " 3: 'What\\'s your major? (\"n/a\" if not applicable, otherwise capitalize first letter, ex. \"Biology\")',\n",
              " 4: 'On a scale from 1 to 10 how productive do you think you were today?',\n",
              " 5: 'How many assignments/tasks have you accomplished today? (Give in the form of a fraction or percentage)',\n",
              " 6: 'What is your average daily screen time?  (hours)',\n",
              " 7: 'What are the top apps used',\n",
              " 8: 'What social media platforms do you use the most?',\n",
              " 9: 'How much in total weekly?',\n",
              " 10: 'Are you listening to anything right now?',\n",
              " 11: 'What music genre do you prefer to listen to?',\n",
              " 12: 'In general are you an athletic/fit person?',\n",
              " 13: 'How many hours did you spend exercising today?',\n",
              " 14: 'How many times did you exercise this week?',\n",
              " 15: 'Do you try to stay fit?',\n",
              " 16: 'Why do you exercise?',\n",
              " 17: 'How much do you drink on average each time? (# of drinks)',\n",
              " 18: 'When was the last time you consumed an alcoholic beverage?',\n",
              " 19: 'Why do you drink?',\n",
              " 20: 'How much sleep did you get last night?',\n",
              " 21: 'How much sleep do you get on average?',\n",
              " 22: 'How much sleep do you wish to get on average?',\n",
              " 23: 'Do you take naps regularly?',\n",
              " 24: 'What is the date?',\n",
              " 25: 'What is the time right now?',\n",
              " 26: 'On a scale of 1 to 10, how stressed do you feel right now?',\n",
              " 27: 'On a scale of 1 to 10, how stressed have you been on average in the past 6 months?',\n",
              " 28: 'Are you a vegetarian/vegan?',\n",
              " 29: 'Do you have any dietary restrictions?',\n",
              " 30: 'Number Memory',\n",
              " 31: 'Sequence Memory',\n",
              " 32: 'Visual Memory',\n",
              " 33: 'Memory Sum'}"
            ]
          },
          "metadata": {
            "tags": []
          },
          "execution_count": 37
        }
      ]
    },
    {
      "cell_type": "markdown",
      "metadata": {
        "id": "QdZ4gKuVtDoZ"
      },
      "source": [
        "# 2. PCA"
      ]
    },
    {
      "cell_type": "code",
      "metadata": {
        "colab": {
          "base_uri": "https://localhost:8080/",
          "height": 1000
        },
        "id": "vyLkOExAtFfB",
        "outputId": "685a2696-4679-4e63-ec6b-e4615621be14"
      },
      "source": [
        "def pca(df):\n",
        "  # Center data\n",
        "  df_mean = df.mean(axis=0)\n",
        "  df_centered = df - df_mean\n",
        "  # Scale - each col has unit variance\n",
        "  df_centered_scaled = df_centered / np.sqrt(np.var(df_centered))\n",
        "  # for the case where all values are 0, SVD doesn't converge\n",
        "  df_centered_scaled = df_centered_scaled.fillna(0)\n",
        "  # Break into components\n",
        "  #df_centered_scaled.dropna(inplace=True)\n",
        "  u, s, vt = np.linalg.svd(df_centered_scaled, full_matrices=False)\n",
        "  v = vt.T\n",
        "  P = df_centered @ v\n",
        "  plt.figure(figsize=(12, 4))\n",
        "  plt.bar(df.columns, vt[0, :], alpha=0.7)\n",
        "  plt.xticks(df.columns, rotation=90)\n",
        "  plt.show()\n",
        "  \n",
        "  return P\n",
        "\n",
        "pca(df[[1,2,3,4,5,6,9,10,12,13,14,15,17,18,20,21,22,23,25,26,27,28]])\n",
        "dict[14], df[14]"
      ],
      "execution_count": null,
      "outputs": [
        {
          "output_type": "display_data",
          "data": {
            "image/png": "[encoded data removed]",
            "text/plain": [
              "<Figure size 864x288 with 1 Axes>"
            ]
          },
          "metadata": {
            "tags": [],
            "needs_background": "light"
          }
        },
        {
          "output_type": "execute_result",
          "data": {
            "text/plain": [
              "('How many times did you exercise this week?', 0     3\n",
              " 1     5\n",
              " 2     2\n",
              " 3     4\n",
              " 4     5\n",
              " 5     2\n",
              " 6     3\n",
              " 7     6\n",
              " 8     0\n",
              " 9     4\n",
              " 10    3\n",
              " 11    1\n",
              " 12    1\n",
              " 13    2\n",
              " 14    0\n",
              " 15    0\n",
              " 16    1\n",
              " 17    2\n",
              " 18    6\n",
              " 19    2\n",
              " 20    0\n",
              " 21    2\n",
              " 22    6\n",
              " 23    0\n",
              " 24    1\n",
              " 25    3\n",
              " 26    2\n",
              " 27    1\n",
              " 28    4\n",
              " 29    2\n",
              " 30    2\n",
              " 31    1\n",
              " 32    2\n",
              " 33    3\n",
              " 34    5\n",
              " 35    2\n",
              " 36    2\n",
              " 37    0\n",
              " 38    4\n",
              " 39    1\n",
              " 40    0\n",
              " 41    2\n",
              " 42    1\n",
              " 43    3\n",
              " 44    0\n",
              " Name: 14, dtype: int64)"
            ]
          },
          "metadata": {
            "tags": []
          },
          "execution_count": 13
        }
      ]
    },
    {
      "cell_type": "markdown",
      "metadata": {
        "id": "bUtFUhfLlq_i"
      },
      "source": [
        "<a name='a'></a>\n",
        "# 3. Fixed Entry Feature Investigation\n",
        "\n",
        "Picking columns with multiple choice / yes-no answers to compare with memory results"
      ]
    },
    {
      "cell_type": "markdown",
      "metadata": {
        "id": "2zB3RKQu3f-w"
      },
      "source": [
        "ENTER QUESTION NUMBER HERE"
      ]
    },
    {
      "cell_type": "code",
      "metadata": {
        "colab": {
          "base_uri": "https://localhost:8080/",
          "height": 35
        },
        "id": "rbpkSOxS3Ajx",
        "outputId": "16f3ef3d-009e-4401-ef88-e8c14cfa5193"
      },
      "source": [
        "k = 17\n",
        "\n",
        "#-------------\n",
        "dict[k]\n"
      ],
      "execution_count": null,
      "outputs": [
        {
          "output_type": "execute_result",
          "data": {
            "application/vnd.google.colaboratory.intrinsic+json": {
              "type": "string"
            },
            "text/plain": [
              "'How much do you drink on average each time? (# of drinks)'"
            ]
          },
          "metadata": {
            "tags": []
          },
          "execution_count": 60
        }
      ]
    },
    {
      "cell_type": "code",
      "metadata": {
        "colab": {
          "base_uri": "https://localhost:8080/",
          "height": 296
        },
        "id": "wky79A594Yiv",
        "outputId": "139e4013-6e2e-47a7-c60f-01f62501db81"
      },
      "source": [
        "sns.histplot(df[k])"
      ],
      "execution_count": null,
      "outputs": [
        {
          "output_type": "execute_result",
          "data": {
            "text/plain": [
              "<matplotlib.axes._subplots.AxesSubplot at 0x7fe66bd1cad0>"
            ]
          },
          "metadata": {
            "tags": []
          },
          "execution_count": 61
        },
        {
          "output_type": "display_data",
          "data": {
            "image/png": "[encoded data removed]",
            "text/plain": [
              "<Figure size 432x288 with 1 Axes>"
            ]
          },
          "metadata": {
            "tags": [],
            "needs_background": "light"
          }
        }
      ]
    },
    {
      "cell_type": "markdown",
      "metadata": {
        "id": "KXsoAX683h8b"
      },
      "source": [
        "ENTER CUTOFF HERE"
      ]
    },
    {
      "cell_type": "code",
      "metadata": {
        "id": "Lgi7m9xC0d3j"
      },
      "source": [
        "cutoff1 = 1"
      ],
      "execution_count": null,
      "outputs": []
    },
    {
      "cell_type": "markdown",
      "metadata": {
        "id": "kpB0Rrf933Hv"
      },
      "source": [
        "-------------------------------------"
      ]
    },
    {
      "cell_type": "code",
      "metadata": {
        "id": "G_cTU-mR3xI1"
      },
      "source": [
        "#df[[k, 30, 31, 32, 33]]"
      ],
      "execution_count": null,
      "outputs": []
    },
    {
      "cell_type": "code",
      "metadata": {
        "colab": {
          "base_uri": "https://localhost:8080/",
          "height": 328
        },
        "id": "2TaSemmcSwJc",
        "outputId": "15712874-1312-4141-b210-c9ce03fd7542"
      },
      "source": [
        "df[[k, 30, 31, 32, 33]].groupby([k]).mean()"
      ],
      "execution_count": null,
      "outputs": [
        {
          "output_type": "execute_result",
          "data": {
            "text/html": [
              "<div>\n",
              "<style scoped>\n",
              "    .dataframe tbody tr th:only-of-type {\n",
              "        vertical-align: middle;\n",
              "    }\n",
              "\n",
              "    .dataframe tbody tr th {\n",
              "        vertical-align: top;\n",
              "    }\n",
              "\n",
              "    .dataframe thead th {\n",
              "        text-align: right;\n",
              "    }\n",
              "</style>\n",
              "<table border=\"1\" class=\"dataframe\">\n",
              "  <thead>\n",
              "    <tr style=\"text-align: right;\">\n",
              "      <th></th>\n",
              "      <th>30</th>\n",
              "      <th>31</th>\n",
              "      <th>32</th>\n",
              "      <th>33</th>\n",
              "    </tr>\n",
              "    <tr>\n",
              "      <th>18</th>\n",
              "      <th></th>\n",
              "      <th></th>\n",
              "      <th></th>\n",
              "      <th></th>\n",
              "    </tr>\n",
              "  </thead>\n",
              "  <tbody>\n",
              "    <tr>\n",
              "      <th>1 year</th>\n",
              "      <td>13.000000</td>\n",
              "      <td>22.000000</td>\n",
              "      <td>15.000000</td>\n",
              "      <td>50.000000</td>\n",
              "    </tr>\n",
              "    <tr>\n",
              "      <th>3+ months</th>\n",
              "      <td>11.000000</td>\n",
              "      <td>13.000000</td>\n",
              "      <td>12.000000</td>\n",
              "      <td>36.000000</td>\n",
              "    </tr>\n",
              "    <tr>\n",
              "      <th>6+ months</th>\n",
              "      <td>10.500000</td>\n",
              "      <td>10.500000</td>\n",
              "      <td>12.500000</td>\n",
              "      <td>33.500000</td>\n",
              "    </tr>\n",
              "    <tr>\n",
              "      <th>Last 2 days</th>\n",
              "      <td>9.285714</td>\n",
              "      <td>9.428571</td>\n",
              "      <td>10.571429</td>\n",
              "      <td>29.285714</td>\n",
              "    </tr>\n",
              "    <tr>\n",
              "      <th>Last month</th>\n",
              "      <td>9.666667</td>\n",
              "      <td>10.500000</td>\n",
              "      <td>10.583333</td>\n",
              "      <td>30.750000</td>\n",
              "    </tr>\n",
              "    <tr>\n",
              "      <th>Last week</th>\n",
              "      <td>9.083333</td>\n",
              "      <td>8.166667</td>\n",
              "      <td>10.750000</td>\n",
              "      <td>28.000000</td>\n",
              "    </tr>\n",
              "    <tr>\n",
              "      <th>Never</th>\n",
              "      <td>9.750000</td>\n",
              "      <td>11.250000</td>\n",
              "      <td>12.625000</td>\n",
              "      <td>33.625000</td>\n",
              "    </tr>\n",
              "    <tr>\n",
              "      <th>Over 1 year</th>\n",
              "      <td>10.000000</td>\n",
              "      <td>14.000000</td>\n",
              "      <td>15.000000</td>\n",
              "      <td>39.000000</td>\n",
              "    </tr>\n",
              "  </tbody>\n",
              "</table>\n",
              "</div>"
            ],
            "text/plain": [
              "                    30         31         32         33\n",
              "18                                                     \n",
              "1 year       13.000000  22.000000  15.000000  50.000000\n",
              "3+ months    11.000000  13.000000  12.000000  36.000000\n",
              "6+ months    10.500000  10.500000  12.500000  33.500000\n",
              "Last 2 days   9.285714   9.428571  10.571429  29.285714\n",
              "Last month    9.666667  10.500000  10.583333  30.750000\n",
              "Last week     9.083333   8.166667  10.750000  28.000000\n",
              "Never         9.750000  11.250000  12.625000  33.625000\n",
              "Over 1 year  10.000000  14.000000  15.000000  39.000000"
            ]
          },
          "metadata": {
            "tags": []
          },
          "execution_count": 51
        }
      ]
    },
    {
      "cell_type": "code",
      "metadata": {
        "colab": {
          "base_uri": "https://localhost:8080/",
          "height": 328
        },
        "id": "q4e_TX3uUUB7",
        "outputId": "94a14855-0d3f-4bbe-b88c-92609608a34a"
      },
      "source": [
        "df[[k, 30]].groupby([k]).count()"
      ],
      "execution_count": null,
      "outputs": [
        {
          "output_type": "execute_result",
          "data": {
            "text/html": [
              "<div>\n",
              "<style scoped>\n",
              "    .dataframe tbody tr th:only-of-type {\n",
              "        vertical-align: middle;\n",
              "    }\n",
              "\n",
              "    .dataframe tbody tr th {\n",
              "        vertical-align: top;\n",
              "    }\n",
              "\n",
              "    .dataframe thead th {\n",
              "        text-align: right;\n",
              "    }\n",
              "</style>\n",
              "<table border=\"1\" class=\"dataframe\">\n",
              "  <thead>\n",
              "    <tr style=\"text-align: right;\">\n",
              "      <th></th>\n",
              "      <th>30</th>\n",
              "    </tr>\n",
              "    <tr>\n",
              "      <th>18</th>\n",
              "      <th></th>\n",
              "    </tr>\n",
              "  </thead>\n",
              "  <tbody>\n",
              "    <tr>\n",
              "      <th>1 year</th>\n",
              "      <td>1</td>\n",
              "    </tr>\n",
              "    <tr>\n",
              "      <th>3+ months</th>\n",
              "      <td>2</td>\n",
              "    </tr>\n",
              "    <tr>\n",
              "      <th>6+ months</th>\n",
              "      <td>2</td>\n",
              "    </tr>\n",
              "    <tr>\n",
              "      <th>Last 2 days</th>\n",
              "      <td>7</td>\n",
              "    </tr>\n",
              "    <tr>\n",
              "      <th>Last month</th>\n",
              "      <td>12</td>\n",
              "    </tr>\n",
              "    <tr>\n",
              "      <th>Last week</th>\n",
              "      <td>12</td>\n",
              "    </tr>\n",
              "    <tr>\n",
              "      <th>Never</th>\n",
              "      <td>8</td>\n",
              "    </tr>\n",
              "    <tr>\n",
              "      <th>Over 1 year</th>\n",
              "      <td>1</td>\n",
              "    </tr>\n",
              "  </tbody>\n",
              "</table>\n",
              "</div>"
            ],
            "text/plain": [
              "             30\n",
              "18             \n",
              "1 year        1\n",
              "3+ months     2\n",
              "6+ months     2\n",
              "Last 2 days   7\n",
              "Last month   12\n",
              "Last week    12\n",
              "Never         8\n",
              "Over 1 year   1"
            ]
          },
          "metadata": {
            "tags": []
          },
          "execution_count": 52
        }
      ]
    },
    {
      "cell_type": "code",
      "metadata": {
        "id": "MM1IzZFRUn49"
      },
      "source": [
        ""
      ],
      "execution_count": null,
      "outputs": []
    },
    {
      "cell_type": "markdown",
      "metadata": {
        "id": "Sul-KI5NUoOl"
      },
      "source": [
        "-------------------------------------------------------------"
      ]
    },
    {
      "cell_type": "markdown",
      "metadata": {
        "id": "mhs_rkopUpwB"
      },
      "source": [
        "## Numerical X-axis only"
      ]
    },
    {
      "cell_type": "markdown",
      "metadata": {
        "id": "cX_WZ5UQ0P2P"
      },
      "source": [
        "Average scores with less than CUTOFF"
      ]
    },
    {
      "cell_type": "code",
      "metadata": {
        "colab": {
          "base_uri": "https://localhost:8080/"
        },
        "id": "5Uq__1I4zwJa",
        "outputId": "bce4ed3a-599f-4fa1-f829-683479f448f6"
      },
      "source": [
        "np.average(df[df[k] <= cutoff1][30]), np.average(df[df[k] <= cutoff1][31]), np.average(df[df[k] <= cutoff1][32]), np.average(df[df[k] <= cutoff1][33])"
      ],
      "execution_count": null,
      "outputs": [
        {
          "output_type": "execute_result",
          "data": {
            "text/plain": [
              "(10.166666666666666,\n",
              " 11.722222222222221,\n",
              " 11.944444444444445,\n",
              " 33.833333333333336)"
            ]
          },
          "metadata": {
            "tags": []
          },
          "execution_count": 63
        }
      ]
    },
    {
      "cell_type": "markdown",
      "metadata": {
        "id": "cz0B55Eb0azl"
      },
      "source": [
        "Average scores with more than CUTOFF"
      ]
    },
    {
      "cell_type": "code",
      "metadata": {
        "colab": {
          "base_uri": "https://localhost:8080/"
        },
        "id": "yN4fn8-D0Isk",
        "outputId": "c62d7f6d-3bb1-4449-fd0c-5e165d45446b"
      },
      "source": [
        "np.average(df[df[k] > cutoff1][30]), np.average(df[df[k] > cutoff1][31]), np.average(df[df[k] > cutoff1][32]), np.average(df[df[k] > cutoff1][33])"
      ],
      "execution_count": null,
      "outputs": [
        {
          "output_type": "execute_result",
          "data": {
            "text/plain": [
              "(9.296296296296296, 9.333333333333334, 10.925925925925926, 29.555555555555557)"
            ]
          },
          "metadata": {
            "tags": []
          },
          "execution_count": 64
        }
      ]
    },
    {
      "cell_type": "markdown",
      "metadata": {
        "id": "OPOmIvqO0-k-"
      },
      "source": [
        "Graphs"
      ]
    },
    {
      "cell_type": "code",
      "metadata": {
        "id": "8_3rSbHddhtS"
      },
      "source": [
        "low = True"
      ],
      "execution_count": null,
      "outputs": []
    },
    {
      "cell_type": "code",
      "metadata": {
        "id": "tQ3Auz9s1E0-",
        "colab": {
          "base_uri": "https://localhost:8080/",
          "height": 296
        },
        "outputId": "a467fd6a-e002-4591-8dfc-844f6cc7dae5"
      },
      "source": [
        "sns.regplot(x=df[k], y=df[30], color=\"r\"\n",
        "      , lowess=low\n",
        "      )\n",
        "\n",
        "np.corrcoef(df[k], df[30])[0, 1]\n"
      ],
      "execution_count": null,
      "outputs": [
        {
          "output_type": "execute_result",
          "data": {
            "text/plain": [
              "-0.1651566340185712"
            ]
          },
          "metadata": {
            "tags": []
          },
          "execution_count": 67
        },
        {
          "output_type": "display_data",
          "data": {
            "image/png": "[encoded data removed]",
            "text/plain": [
              "<Figure size 432x288 with 1 Axes>"
            ]
          },
          "metadata": {
            "tags": [],
            "needs_background": "light"
          }
        }
      ]
    },
    {
      "cell_type": "code",
      "metadata": {
        "colab": {
          "base_uri": "https://localhost:8080/",
          "height": 296
        },
        "id": "-xhbv5nm1zbV",
        "outputId": "a245d79a-6d57-4099-8c13-5584a2dd18f8"
      },
      "source": [
        "sns.regplot(x=df[k], y=df[31], color=\"y\"\n",
        "      , lowess=low\n",
        "      )\n",
        "\n",
        "np.corrcoef(df[k], df[31])[0, 1]"
      ],
      "execution_count": null,
      "outputs": [
        {
          "output_type": "execute_result",
          "data": {
            "text/plain": [
              "-0.05280704450049914"
            ]
          },
          "metadata": {
            "tags": []
          },
          "execution_count": 68
        },
        {
          "output_type": "display_data",
          "data": {
            "image/png": "[encoded data removed]",
            "text/plain": [
              "<Figure size 432x288 with 1 Axes>"
            ]
          },
          "metadata": {
            "tags": [],
            "needs_background": "light"
          }
        }
      ]
    },
    {
      "cell_type": "code",
      "metadata": {
        "colab": {
          "base_uri": "https://localhost:8080/",
          "height": 296
        },
        "id": "ISti2pDU11mM",
        "outputId": "fd3634e0-b0ea-49c2-89ee-15b643508f8c"
      },
      "source": [
        "sns.regplot(x=df[k], y=df[32], color=\"g\"\n",
        "      , lowess=low\n",
        "      )\n",
        "\n",
        "np.corrcoef(df[k], df[32])[0, 1]"
      ],
      "execution_count": null,
      "outputs": [
        {
          "output_type": "execute_result",
          "data": {
            "text/plain": [
              "-0.1387846504920266"
            ]
          },
          "metadata": {
            "tags": []
          },
          "execution_count": 69
        },
        {
          "output_type": "display_data",
          "data": {
            "image/png": "[encoded data removed]",
            "text/plain": [
              "<Figure size 432x288 with 1 Axes>"
            ]
          },
          "metadata": {
            "tags": [],
            "needs_background": "light"
          }
        }
      ]
    },
    {
      "cell_type": "code",
      "metadata": {
        "colab": {
          "base_uri": "https://localhost:8080/",
          "height": 296
        },
        "id": "jgbHHSTr11uO",
        "outputId": "e354e4bd-9bc5-492d-9be6-360824276838"
      },
      "source": [
        "sns.regplot(x=df[k], y=df[33], color=\"b\"\n",
        "      , lowess=low\n",
        "      )\n",
        "\n",
        "np.corrcoef(df[k], df[33])[0, 1]"
      ],
      "execution_count": null,
      "outputs": [
        {
          "output_type": "execute_result",
          "data": {
            "text/plain": [
              "-0.1293631442935422"
            ]
          },
          "metadata": {
            "tags": []
          },
          "execution_count": 70
        },
        {
          "output_type": "display_data",
          "data": {
            "image/png": "[encoded data removed]",
            "text/plain": [
              "<Figure size 432x288 with 1 Axes>"
            ]
          },
          "metadata": {
            "tags": [],
            "needs_background": "light"
          }
        }
      ]
    },
    {
      "cell_type": "markdown",
      "metadata": {
        "id": "lbYrPPnEmqYf"
      },
      "source": [
        "<a name='b'></a>\n",
        "# 4.  Variable Entry Feature Investigation\n",
        "\n",
        "Picking columns with free response entries to compare with memory results"
      ]
    },
    {
      "cell_type": "markdown",
      "metadata": {
        "id": "LPEA1KA8m8YC"
      },
      "source": [
        "<a name='c'></a>\n",
        "# 5. Other\n",
        "\n",
        "Anything that does not involve memory tests as a comparison"
      ]
    }
  ]
}