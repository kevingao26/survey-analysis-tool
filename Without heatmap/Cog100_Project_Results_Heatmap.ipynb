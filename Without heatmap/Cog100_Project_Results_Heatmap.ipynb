{
  "nbformat": 4,
  "nbformat_minor": 0,
  "metadata": {
    "colab": {
      "name": "Cog100_Project_Results_Heatmap.ipynb",
      "provenance": [],
      "collapsed_sections": [],
      "toc_visible": true
    },
    "kernelspec": {
      "display_name": "Python 3",
      "language": "python",
      "name": "python3"
    },
    "language_info": {
      "codemirror_mode": {
        "name": "ipython",
        "version": 3
      },
      "file_extension": ".py",
      "mimetype": "text/x-python",
      "name": "python",
      "nbconvert_exporter": "python",
      "pygments_lexer": "ipython3",
      "version": "3.8.8"
    }
  },
  "cells": [
    {
      "cell_type": "markdown",
      "metadata": {
        "id": "vZjDKXMKoBZg"
      },
      "source": [
        "# Easier navigation:\n",
        "\n",
        "------------------------------------\n",
        "## 0. <a href='#col'>Columns</a>\n",
        "## 1. <a href='#setup'>Setup</a>\n",
        "------------------------------------\n",
        "## 2. <a href='#pca'>PCA</a>\n",
        "## 3. <a href='#a'>Fixed Entry Feature Investigation</a>\n",
        "## 4. <a href='#b'>Variable Entry Feature Investigation</a>\n",
        "## 5. <a href='#c'>Other</a>"
      ]
    },
    {
      "cell_type": "markdown",
      "metadata": {
        "id": "booqic6gosf0"
      },
      "source": [
        "<a name='col'></a>\n",
        "# 0. Columns\n",
        "\n",
        "0. Timestamp\n",
        "1. How many units are you currently taking?\n",
        "2. How old are you?\n",
        "3. What's your major? (\"n/a\" if not applicable, otherwise capitalize first letter, ex. \"Biology\")\n",
        "4. On a scale from 1 to 10 how productive do you think you were today?  \n",
        "5. How many assignments/tasks have you accomplished today? (Give in the form of a fraction or percentage)\n",
        "6. What is your average daily screen time?  (hours)\n",
        "7. What are the top apps used\n",
        "8. What social media platforms do you use the most? \n",
        "9. How much in total daily? weekly?\n",
        "10. Are you listening to anything right now? \n",
        "11. What music genre do you prefer to listen to?\n",
        "12. In general are you an athletic/fit person? \n",
        "13. How many hours did you spend exercising today?\n",
        "14. How many times did you exercise this week?\n",
        "15. Do you try to stay fit? \n",
        "16. Why do you exercise? \n",
        "17. How much do you drink on average each time? (# of drinks)\n",
        "18. When was the last time you consumed an alcoholic beverage?\n",
        "19. Why do you drink?\n",
        "20. How much sleep did you get last night? \n",
        "21. How much sleep do you get on average? \n",
        "22. How much sleep do you wish to get on average?\n",
        "23. Do you take naps regularly? \n",
        "24. What is the date?\n",
        "25. What is the time right now? \n",
        "26. On a scale of 1 to 10, how stressed do you feel right now?\n",
        "27. On a scale of 1 to 10, how stressed have you been on average in the past 6 months?\n",
        "28. Are you a vegetarian/vegan? \n",
        "29. Do you have any dietary restrictions?\n",
        "30. Number Memory\n",
        "31. Sequence Memory\n",
        "32. Visual Memory\n",
        "33. Memory Sum"
      ]
    },
    {
      "cell_type": "markdown",
      "metadata": {
        "id": "iz_mD2xIh5cd"
      },
      "source": [
        "<a name='setup'></a>\n",
        "# 1. Setting up table\n",
        "\n",
        "Given that we only have ~50 entries, it'd probably be easier to manually edit bad entries than to have to correct it using regex, etc.\n",
        "\n",
        "A lot of free response columns don't seem very useful, but if you want to investigate it you can edit the data to fit a certain form."
      ]
    },
    {
      "cell_type": "code",
      "metadata": {
        "id": "-kZplbLjfqJQ"
      },
      "source": [
        "import numpy as np\n",
        "import pandas as pd\n",
        "import matplotlib\n",
        "import matplotlib.pyplot as plt\n",
        "import seaborn as sns\n",
        "from mpl_toolkits.mplot3d import Axes3D\n",
        "sns.set()\n",
        "plt.style.use('fivethirtyeight')\n",
        "import zipfile\n",
        "import os # Used to interact with the file system\n",
        "import re\n",
        "from copy import deepcopy\n",
        "#from tabulate import tabulate\n",
        "import plotly.express as px\n",
        "\n",
        "import sklearn\n",
        "import sklearn.datasets\n",
        "import sklearn.linear_model\n",
        "from sklearn.model_selection import train_test_split\n",
        "from sklearn.linear_model import LogisticRegressionCV\n",
        "from sklearn.linear_model import LogisticRegression\n",
        "from sklearn import linear_model as lm\n",
        "from sklearn.feature_extraction import DictVectorizer\n",
        "from IPython.display import display, HTML\n",
        "import warnings\n",
        "warnings.filterwarnings('ignore')\n",
        "# Note: If you're having problems with the 3d scatter plots, uncomment the two␣\n",
        "#,→lines below, and you should see a version that\n",
        "# number that is at least 4.1.1.\n",
        "# import plotly\n",
        "# plotly.__version__\n"
      ],
      "execution_count": null,
      "outputs": []
    },
    {
      "cell_type": "code",
      "metadata": {
        "id": "N2EGpmrLg-3P"
      },
      "source": [
        "# from google.colab import auth\n",
        "# auth.authenticate_user()\n",
        "\n",
        "# from googleapiclient.discovery import build\n",
        "# service = build('drive', 'v3')"
      ],
      "execution_count": null,
      "outputs": []
    },
    {
      "cell_type": "code",
      "metadata": {
        "id": "7KQd_Sg7hAXC"
      },
      "source": [
        "# # Run this to mount the Notebook in your Google Drive account \n",
        "# from google.colab import drive\n",
        "# #drive.mount('/content/drive')\n",
        "# drive.mount('/content/drive', force_remount=True)"
      ],
      "execution_count": null,
      "outputs": []
    },
    {
      "cell_type": "markdown",
      "metadata": {
        "id": "yPfhAdtphNo-"
      },
      "source": [
        "Specify path for CSV file."
      ]
    },
    {
      "cell_type": "code",
      "metadata": {
        "id": "UwqXuXikhO1h"
      },
      "source": [
        "path = \"Cogsci100 Survey2.csv\""
      ],
      "execution_count": null,
      "outputs": []
    },
    {
      "cell_type": "code",
      "metadata": {
        "colab": {
          "base_uri": "https://localhost:8080/",
          "height": 564
        },
        "id": "j0M2lZ5thwhL",
        "outputId": "dcfb3f48-b1cb-4d72-97d3-0dfad574d415"
      },
      "source": [
        "df = pd.read_csv(path)\n",
        "df.head()"
      ],
      "execution_count": null,
      "outputs": [
        {
          "output_type": "execute_result",
          "data": {
            "text/html": [
              "<div>\n",
              "<style scoped>\n",
              "    .dataframe tbody tr th:only-of-type {\n",
              "        vertical-align: middle;\n",
              "    }\n",
              "\n",
              "    .dataframe tbody tr th {\n",
              "        vertical-align: top;\n",
              "    }\n",
              "\n",
              "    .dataframe thead th {\n",
              "        text-align: right;\n",
              "    }\n",
              "</style>\n",
              "<table border=\"1\" class=\"dataframe\">\n",
              "  <thead>\n",
              "    <tr style=\"text-align: right;\">\n",
              "      <th></th>\n",
              "      <th>Timestamp</th>\n",
              "      <th>How many units are you currently taking?</th>\n",
              "      <th>How old are you?</th>\n",
              "      <th>What's your major? (\"n/a\" if not applicable, otherwise capitalize first letter, ex. \"Biology\")</th>\n",
              "      <th>On a scale from 1 to 10 how productive do you think you were today?</th>\n",
              "      <th>How many assignments/tasks have you accomplished today? (Give in the form of a fraction or percentage)</th>\n",
              "      <th>What is your average daily screen time?  (hours)</th>\n",
              "      <th>What are the top apps used</th>\n",
              "      <th>What social media platforms do you use the most?</th>\n",
              "      <th>How much in total daily? weekly?</th>\n",
              "      <th>...</th>\n",
              "      <th>Do you take naps regularly?</th>\n",
              "      <th>What is the date?</th>\n",
              "      <th>What is the time right now?</th>\n",
              "      <th>On a scale of 1 to 10, how stressed do you feel right now?</th>\n",
              "      <th>On a scale of 1 to 10, how stressed have you been on average in the past 6 months?</th>\n",
              "      <th>Are you a vegetarian/vegan?</th>\n",
              "      <th>Do you have any dietary restrictions?</th>\n",
              "      <th>Number Memory</th>\n",
              "      <th>Sequence Memory</th>\n",
              "      <th>Visual Memory</th>\n",
              "    </tr>\n",
              "  </thead>\n",
              "  <tbody>\n",
              "    <tr>\n",
              "      <th>0</th>\n",
              "      <td>2021/03/17 6:41:47 PM MDT</td>\n",
              "      <td>19</td>\n",
              "      <td>18</td>\n",
              "      <td>Chemistry</td>\n",
              "      <td>8</td>\n",
              "      <td>2/5</td>\n",
              "      <td>6-8</td>\n",
              "      <td>Tiktok and Snapchat</td>\n",
              "      <td>Youtube;Instagram;TikTok;Snapchat</td>\n",
              "      <td>30</td>\n",
              "      <td>...</td>\n",
              "      <td>No</td>\n",
              "      <td>2021-03-17</td>\n",
              "      <td>20:41</td>\n",
              "      <td>3</td>\n",
              "      <td>6</td>\n",
              "      <td>No</td>\n",
              "      <td>Nope</td>\n",
              "      <td>10</td>\n",
              "      <td>10</td>\n",
              "      <td>10</td>\n",
              "    </tr>\n",
              "    <tr>\n",
              "      <th>1</th>\n",
              "      <td>2021/03/17 6:46:26 PM MDT</td>\n",
              "      <td>16</td>\n",
              "      <td>19</td>\n",
              "      <td>Business</td>\n",
              "      <td>3</td>\n",
              "      <td>1/10</td>\n",
              "      <td>4-6</td>\n",
              "      <td>Tiktok Instagram Netflix</td>\n",
              "      <td>Instagram</td>\n",
              "      <td>35 minutes daily 5 hour weekly</td>\n",
              "      <td>...</td>\n",
              "      <td>No</td>\n",
              "      <td>2021-03-17</td>\n",
              "      <td>20:41</td>\n",
              "      <td>8</td>\n",
              "      <td>2</td>\n",
              "      <td>No</td>\n",
              "      <td>Nope</td>\n",
              "      <td>9</td>\n",
              "      <td>8</td>\n",
              "      <td>9</td>\n",
              "    </tr>\n",
              "    <tr>\n",
              "      <th>2</th>\n",
              "      <td>2021/03/17 6:52:18 PM MDT</td>\n",
              "      <td>15</td>\n",
              "      <td>19</td>\n",
              "      <td>Health Science</td>\n",
              "      <td>8</td>\n",
              "      <td>3/5</td>\n",
              "      <td>4-6</td>\n",
              "      <td>TikTok, Instagram</td>\n",
              "      <td>Youtube;Instagram;TikTok;Snapchat</td>\n",
              "      <td>6hr 21min daily. 25hr 27mins weekly</td>\n",
              "      <td>...</td>\n",
              "      <td>No</td>\n",
              "      <td>2021-03-17</td>\n",
              "      <td>20:47</td>\n",
              "      <td>9</td>\n",
              "      <td>10</td>\n",
              "      <td>No</td>\n",
              "      <td>milk in the morning makes me doodoo</td>\n",
              "      <td>8</td>\n",
              "      <td>6</td>\n",
              "      <td>11</td>\n",
              "    </tr>\n",
              "    <tr>\n",
              "      <th>3</th>\n",
              "      <td>2021/03/17 6:58:38 PM MDT</td>\n",
              "      <td>17</td>\n",
              "      <td>19</td>\n",
              "      <td>Computer Science</td>\n",
              "      <td>7</td>\n",
              "      <td>1</td>\n",
              "      <td>6-8</td>\n",
              "      <td>YouTube, Messenger, Chrome</td>\n",
              "      <td>Youtube;Messenger</td>\n",
              "      <td>3, 20</td>\n",
              "      <td>...</td>\n",
              "      <td>Yes</td>\n",
              "      <td>2021-03-17</td>\n",
              "      <td>20:56</td>\n",
              "      <td>7</td>\n",
              "      <td>8</td>\n",
              "      <td>No</td>\n",
              "      <td>No</td>\n",
              "      <td>11</td>\n",
              "      <td>9</td>\n",
              "      <td>9</td>\n",
              "    </tr>\n",
              "    <tr>\n",
              "      <th>4</th>\n",
              "      <td>2021/03/17 7:04:52 PM MDT</td>\n",
              "      <td>16</td>\n",
              "      <td>20</td>\n",
              "      <td>Business Admin &amp; Econ</td>\n",
              "      <td>5</td>\n",
              "      <td>1/2</td>\n",
              "      <td>4-6</td>\n",
              "      <td>Instagram, Tiktok</td>\n",
              "      <td>Facebook;Youtube;Instagram;TikTok;Snapchat;Dis...</td>\n",
              "      <td>6 daily, 48 weekly</td>\n",
              "      <td>...</td>\n",
              "      <td>No</td>\n",
              "      <td>2021-03-17</td>\n",
              "      <td>14:56</td>\n",
              "      <td>8</td>\n",
              "      <td>6</td>\n",
              "      <td>No</td>\n",
              "      <td>Nope</td>\n",
              "      <td>10</td>\n",
              "      <td>16</td>\n",
              "      <td>11</td>\n",
              "    </tr>\n",
              "  </tbody>\n",
              "</table>\n",
              "<p>5 rows × 33 columns</p>\n",
              "</div>"
            ],
            "text/plain": [
              "                   Timestamp  How many units are you currently taking?  \\\n",
              "0  2021/03/17 6:41:47 PM MDT                                        19   \n",
              "1  2021/03/17 6:46:26 PM MDT                                        16   \n",
              "2  2021/03/17 6:52:18 PM MDT                                        15   \n",
              "3  2021/03/17 6:58:38 PM MDT                                        17   \n",
              "4  2021/03/17 7:04:52 PM MDT                                        16   \n",
              "\n",
              "   How old are you?  \\\n",
              "0                18   \n",
              "1                19   \n",
              "2                19   \n",
              "3                19   \n",
              "4                20   \n",
              "\n",
              "  What's your major? (\"n/a\" if not applicable, otherwise capitalize first letter, ex. \"Biology\")  \\\n",
              "0                                          Chemistry                                               \n",
              "1                                           Business                                               \n",
              "2                                     Health Science                                               \n",
              "3                                   Computer Science                                               \n",
              "4                              Business Admin & Econ                                               \n",
              "\n",
              "   On a scale from 1 to 10 how productive do you think you were today?    \\\n",
              "0                                                  8                       \n",
              "1                                                  3                       \n",
              "2                                                  8                       \n",
              "3                                                  7                       \n",
              "4                                                  5                       \n",
              "\n",
              "  How many assignments/tasks have you accomplished today? (Give in the form of a fraction or percentage)  \\\n",
              "0                                                2/5                                                       \n",
              "1                                               1/10                                                       \n",
              "2                                                3/5                                                       \n",
              "3                                                  1                                                       \n",
              "4                                                1/2                                                       \n",
              "\n",
              "  What is your average daily screen time?  (hours)  \\\n",
              "0                                              6-8   \n",
              "1                                              4-6   \n",
              "2                                              4-6   \n",
              "3                                              6-8   \n",
              "4                                              4-6   \n",
              "\n",
              "   What are the top apps used  \\\n",
              "0         Tiktok and Snapchat   \n",
              "1    Tiktok Instagram Netflix   \n",
              "2           TikTok, Instagram   \n",
              "3  YouTube, Messenger, Chrome   \n",
              "4           Instagram, Tiktok   \n",
              "\n",
              "   What social media platforms do you use the most?   \\\n",
              "0                  Youtube;Instagram;TikTok;Snapchat   \n",
              "1                                          Instagram   \n",
              "2                  Youtube;Instagram;TikTok;Snapchat   \n",
              "3                                  Youtube;Messenger   \n",
              "4  Facebook;Youtube;Instagram;TikTok;Snapchat;Dis...   \n",
              "\n",
              "      How much in total daily? weekly?  ... Do you take naps regularly?   \\\n",
              "0                                  30   ...                           No   \n",
              "1      35 minutes daily 5 hour weekly   ...                           No   \n",
              "2  6hr 21min daily. 25hr 27mins weekly  ...                           No   \n",
              "3                                3, 20  ...                          Yes   \n",
              "4                   6 daily, 48 weekly  ...                           No   \n",
              "\n",
              "  What is the date? What is the time right now?   \\\n",
              "0        2021-03-17                        20:41   \n",
              "1        2021-03-17                        20:41   \n",
              "2        2021-03-17                        20:47   \n",
              "3        2021-03-17                        20:56   \n",
              "4        2021-03-17                        14:56   \n",
              "\n",
              "  On a scale of 1 to 10, how stressed do you feel right now?  \\\n",
              "0                                                  3           \n",
              "1                                                  8           \n",
              "2                                                  9           \n",
              "3                                                  7           \n",
              "4                                                  8           \n",
              "\n",
              "   On a scale of 1 to 10, how stressed have you been on average in the past 6 months?  \\\n",
              "0                                                  6                                    \n",
              "1                                                  2                                    \n",
              "2                                                 10                                    \n",
              "3                                                  8                                    \n",
              "4                                                  6                                    \n",
              "\n",
              "  Are you a vegetarian/vegan?  Do you have any dietary restrictions?  \\\n",
              "0                           No                                  Nope   \n",
              "1                           No                                  Nope   \n",
              "2                           No   milk in the morning makes me doodoo   \n",
              "3                           No                                    No   \n",
              "4                           No                                  Nope   \n",
              "\n",
              "  Number Memory Sequence Memory Visual Memory  \n",
              "0            10              10            10  \n",
              "1             9               8             9  \n",
              "2             8               6            11  \n",
              "3            11               9             9  \n",
              "4            10              16            11  \n",
              "\n",
              "[5 rows x 33 columns]"
            ]
          },
          "metadata": {
            "tags": []
          },
          "execution_count": 6
        }
      ]
    },
    {
      "cell_type": "markdown",
      "metadata": {
        "id": "LvjIMF4bvz7T"
      },
      "source": [
        "### 1.1 Print columns\n",
        "\n",
        "Uncomment print line to print all columns/numbers to replace with section 0."
      ]
    },
    {
      "cell_type": "code",
      "metadata": {
        "id": "fHwuKCQBkiFW"
      },
      "source": [
        "from pprint import pprint\n",
        "ctt = 0\n",
        "for i in df.columns:\n",
        "  #print(str(ctt) + \". \" + i)\n",
        "  ctt += 1"
      ],
      "execution_count": null,
      "outputs": []
    },
    {
      "cell_type": "code",
      "metadata": {
        "colab": {
          "base_uri": "https://localhost:8080/",
          "height": 479
        },
        "id": "CKOA3eBalWvu",
        "outputId": "25817816-ed86-415b-d4ca-4ae0513dfa9a"
      },
      "source": [
        "dict={}\n",
        "for i in np.arange(33):\n",
        "  dict[i] = df.columns[i]\n",
        "df = df.rename(columns={x:y for x,y in zip(df.columns,range(0,len(df.columns)))})\n",
        "df[33] = df[30] + df[31] + df[32]\n",
        "dict[33] = \"Memory Sum\"\n",
        "df.head()"
      ],
      "execution_count": null,
      "outputs": [
        {
          "output_type": "execute_result",
          "data": {
            "text/html": [
              "<div>\n",
              "<style scoped>\n",
              "    .dataframe tbody tr th:only-of-type {\n",
              "        vertical-align: middle;\n",
              "    }\n",
              "\n",
              "    .dataframe tbody tr th {\n",
              "        vertical-align: top;\n",
              "    }\n",
              "\n",
              "    .dataframe thead th {\n",
              "        text-align: right;\n",
              "    }\n",
              "</style>\n",
              "<table border=\"1\" class=\"dataframe\">\n",
              "  <thead>\n",
              "    <tr style=\"text-align: right;\">\n",
              "      <th></th>\n",
              "      <th>0</th>\n",
              "      <th>1</th>\n",
              "      <th>2</th>\n",
              "      <th>3</th>\n",
              "      <th>4</th>\n",
              "      <th>5</th>\n",
              "      <th>6</th>\n",
              "      <th>7</th>\n",
              "      <th>8</th>\n",
              "      <th>9</th>\n",
              "      <th>...</th>\n",
              "      <th>24</th>\n",
              "      <th>25</th>\n",
              "      <th>26</th>\n",
              "      <th>27</th>\n",
              "      <th>28</th>\n",
              "      <th>29</th>\n",
              "      <th>30</th>\n",
              "      <th>31</th>\n",
              "      <th>32</th>\n",
              "      <th>33</th>\n",
              "    </tr>\n",
              "  </thead>\n",
              "  <tbody>\n",
              "    <tr>\n",
              "      <th>0</th>\n",
              "      <td>2021/03/17 6:41:47 PM MDT</td>\n",
              "      <td>19</td>\n",
              "      <td>18</td>\n",
              "      <td>Chemistry</td>\n",
              "      <td>8</td>\n",
              "      <td>2/5</td>\n",
              "      <td>6-8</td>\n",
              "      <td>Tiktok and Snapchat</td>\n",
              "      <td>Youtube;Instagram;TikTok;Snapchat</td>\n",
              "      <td>30</td>\n",
              "      <td>...</td>\n",
              "      <td>2021-03-17</td>\n",
              "      <td>20:41</td>\n",
              "      <td>3</td>\n",
              "      <td>6</td>\n",
              "      <td>No</td>\n",
              "      <td>Nope</td>\n",
              "      <td>10</td>\n",
              "      <td>10</td>\n",
              "      <td>10</td>\n",
              "      <td>30</td>\n",
              "    </tr>\n",
              "    <tr>\n",
              "      <th>1</th>\n",
              "      <td>2021/03/17 6:46:26 PM MDT</td>\n",
              "      <td>16</td>\n",
              "      <td>19</td>\n",
              "      <td>Business</td>\n",
              "      <td>3</td>\n",
              "      <td>1/10</td>\n",
              "      <td>4-6</td>\n",
              "      <td>Tiktok Instagram Netflix</td>\n",
              "      <td>Instagram</td>\n",
              "      <td>35 minutes daily 5 hour weekly</td>\n",
              "      <td>...</td>\n",
              "      <td>2021-03-17</td>\n",
              "      <td>20:41</td>\n",
              "      <td>8</td>\n",
              "      <td>2</td>\n",
              "      <td>No</td>\n",
              "      <td>Nope</td>\n",
              "      <td>9</td>\n",
              "      <td>8</td>\n",
              "      <td>9</td>\n",
              "      <td>26</td>\n",
              "    </tr>\n",
              "    <tr>\n",
              "      <th>2</th>\n",
              "      <td>2021/03/17 6:52:18 PM MDT</td>\n",
              "      <td>15</td>\n",
              "      <td>19</td>\n",
              "      <td>Health Science</td>\n",
              "      <td>8</td>\n",
              "      <td>3/5</td>\n",
              "      <td>4-6</td>\n",
              "      <td>TikTok, Instagram</td>\n",
              "      <td>Youtube;Instagram;TikTok;Snapchat</td>\n",
              "      <td>6hr 21min daily. 25hr 27mins weekly</td>\n",
              "      <td>...</td>\n",
              "      <td>2021-03-17</td>\n",
              "      <td>20:47</td>\n",
              "      <td>9</td>\n",
              "      <td>10</td>\n",
              "      <td>No</td>\n",
              "      <td>milk in the morning makes me doodoo</td>\n",
              "      <td>8</td>\n",
              "      <td>6</td>\n",
              "      <td>11</td>\n",
              "      <td>25</td>\n",
              "    </tr>\n",
              "    <tr>\n",
              "      <th>3</th>\n",
              "      <td>2021/03/17 6:58:38 PM MDT</td>\n",
              "      <td>17</td>\n",
              "      <td>19</td>\n",
              "      <td>Computer Science</td>\n",
              "      <td>7</td>\n",
              "      <td>1</td>\n",
              "      <td>6-8</td>\n",
              "      <td>YouTube, Messenger, Chrome</td>\n",
              "      <td>Youtube;Messenger</td>\n",
              "      <td>3, 20</td>\n",
              "      <td>...</td>\n",
              "      <td>2021-03-17</td>\n",
              "      <td>20:56</td>\n",
              "      <td>7</td>\n",
              "      <td>8</td>\n",
              "      <td>No</td>\n",
              "      <td>No</td>\n",
              "      <td>11</td>\n",
              "      <td>9</td>\n",
              "      <td>9</td>\n",
              "      <td>29</td>\n",
              "    </tr>\n",
              "    <tr>\n",
              "      <th>4</th>\n",
              "      <td>2021/03/17 7:04:52 PM MDT</td>\n",
              "      <td>16</td>\n",
              "      <td>20</td>\n",
              "      <td>Business Admin &amp; Econ</td>\n",
              "      <td>5</td>\n",
              "      <td>1/2</td>\n",
              "      <td>4-6</td>\n",
              "      <td>Instagram, Tiktok</td>\n",
              "      <td>Facebook;Youtube;Instagram;TikTok;Snapchat;Dis...</td>\n",
              "      <td>6 daily, 48 weekly</td>\n",
              "      <td>...</td>\n",
              "      <td>2021-03-17</td>\n",
              "      <td>14:56</td>\n",
              "      <td>8</td>\n",
              "      <td>6</td>\n",
              "      <td>No</td>\n",
              "      <td>Nope</td>\n",
              "      <td>10</td>\n",
              "      <td>16</td>\n",
              "      <td>11</td>\n",
              "      <td>37</td>\n",
              "    </tr>\n",
              "  </tbody>\n",
              "</table>\n",
              "<p>5 rows × 34 columns</p>\n",
              "</div>"
            ],
            "text/plain": [
              "                          0   1   2                      3   4     5    6   \\\n",
              "0  2021/03/17 6:41:47 PM MDT  19  18              Chemistry   8   2/5  6-8   \n",
              "1  2021/03/17 6:46:26 PM MDT  16  19               Business   3  1/10  4-6   \n",
              "2  2021/03/17 6:52:18 PM MDT  15  19         Health Science   8   3/5  4-6   \n",
              "3  2021/03/17 6:58:38 PM MDT  17  19       Computer Science   7     1  6-8   \n",
              "4  2021/03/17 7:04:52 PM MDT  16  20  Business Admin & Econ   5   1/2  4-6   \n",
              "\n",
              "                           7   \\\n",
              "0         Tiktok and Snapchat   \n",
              "1    Tiktok Instagram Netflix   \n",
              "2           TikTok, Instagram   \n",
              "3  YouTube, Messenger, Chrome   \n",
              "4           Instagram, Tiktok   \n",
              "\n",
              "                                                  8   \\\n",
              "0                  Youtube;Instagram;TikTok;Snapchat   \n",
              "1                                          Instagram   \n",
              "2                  Youtube;Instagram;TikTok;Snapchat   \n",
              "3                                  Youtube;Messenger   \n",
              "4  Facebook;Youtube;Instagram;TikTok;Snapchat;Dis...   \n",
              "\n",
              "                                    9   ...          24     25 26  27  28  \\\n",
              "0                                  30   ...  2021-03-17  20:41  3   6  No   \n",
              "1      35 minutes daily 5 hour weekly   ...  2021-03-17  20:41  8   2  No   \n",
              "2  6hr 21min daily. 25hr 27mins weekly  ...  2021-03-17  20:47  9  10  No   \n",
              "3                                3, 20  ...  2021-03-17  20:56  7   8  No   \n",
              "4                   6 daily, 48 weekly  ...  2021-03-17  14:56  8   6  No   \n",
              "\n",
              "                                    29  30  31  32  33  \n",
              "0                                 Nope  10  10  10  30  \n",
              "1                                 Nope   9   8   9  26  \n",
              "2  milk in the morning makes me doodoo   8   6  11  25  \n",
              "3                                   No  11   9   9  29  \n",
              "4                                 Nope  10  16  11  37  \n",
              "\n",
              "[5 rows x 34 columns]"
            ]
          },
          "metadata": {
            "tags": []
          },
          "execution_count": 8
        }
      ]
    },
    {
      "cell_type": "code",
      "metadata": {
        "colab": {
          "base_uri": "https://localhost:8080/"
        },
        "id": "DRmiJdLfyD3l",
        "outputId": "947e2ed9-c96e-46d5-b7c3-54fb86cf3536"
      },
      "source": [
        "dict"
      ],
      "execution_count": null,
      "outputs": [
        {
          "output_type": "execute_result",
          "data": {
            "text/plain": [
              "{0: 'Timestamp',\n",
              " 1: 'How many units are you currently taking?',\n",
              " 2: 'How old are you?',\n",
              " 3: 'What\\'s your major? (\"n/a\" if not applicable, otherwise capitalize first letter, ex. \"Biology\")',\n",
              " 4: 'On a scale from 1 to 10 how productive do you think you were today?  ',\n",
              " 5: 'How many assignments/tasks have you accomplished today? (Give in the form of a fraction or percentage)',\n",
              " 6: 'What is your average daily screen time?  (hours)',\n",
              " 7: 'What are the top apps used',\n",
              " 8: 'What social media platforms do you use the most? ',\n",
              " 9: 'How much in total daily? weekly?',\n",
              " 10: 'Are you listening to anything right now? ',\n",
              " 11: 'What music genre do you prefer to listen to?',\n",
              " 12: 'In general are you an athletic/fit person? ',\n",
              " 13: 'How many hours did you spend exercising today?',\n",
              " 14: 'How many times did you exercise this week?',\n",
              " 15: 'Do you try to stay fit? ',\n",
              " 16: 'Why do you exercise? ',\n",
              " 17: 'How much do you drink on average each time? (# of drinks)',\n",
              " 18: 'When was the last time you consumed an alcoholic beverage?',\n",
              " 19: 'Why do you drink?',\n",
              " 20: 'How much sleep did you get last night? ',\n",
              " 21: 'How much sleep do you get on average? ',\n",
              " 22: 'How much sleep do you wish to get on average?',\n",
              " 23: 'Do you take naps regularly? ',\n",
              " 24: 'What is the date?',\n",
              " 25: 'What is the time right now? ',\n",
              " 26: 'On a scale of 1 to 10, how stressed do you feel right now?',\n",
              " 27: 'On a scale of 1 to 10, how stressed have you been on average in the past 6 months?',\n",
              " 28: 'Are you a vegetarian/vegan? ',\n",
              " 29: 'Do you have any dietary restrictions?',\n",
              " 30: 'Number Memory',\n",
              " 31: 'Sequence Memory',\n",
              " 32: 'Visual Memory',\n",
              " 33: 'Memory Sum'}"
            ]
          },
          "metadata": {
            "tags": []
          },
          "execution_count": 9
        }
      ]
    },
    {
      "cell_type": "markdown",
      "metadata": {
        "id": "QdZ4gKuVtDoZ"
      },
      "source": [
        "# 2. PCA"
      ]
    },
    {
      "cell_type": "code",
      "metadata": {
        "colab": {
          "base_uri": "https://localhost:8080/",
          "height": 759
        },
        "id": "vyLkOExAtFfB",
        "outputId": "1e04d30b-300a-4fe7-a501-bfcf641d3d72"
      },
      "source": [
        "def pca(df):\n",
        "  # Center data\n",
        "  df_mean = df.mean(axis=0)\n",
        "  df_centered = df - df_mean\n",
        "  # Scale - each col has unit variance\n",
        "  df_centered_scaled = df_centered / np.sqrt(np.var(df_centered))\n",
        "  # for the case where all values are 0, SVD doesn't converge\n",
        "  df_centered_scaled = df_centered_scaled.fillna(0)\n",
        "  # Break into components\n",
        "  #df_centered_scaled.dropna(inplace=True)\n",
        "  u, s, vt = np.linalg.svd(df_centered_scaled, full_matrices=False)\n",
        "  v = vt.T\n",
        "  P = df_centered @ v\n",
        "  plt.figure(figsize=(12, 4))\n",
        "  plt.bar(df.columns, vt[0, :], alpha=0.7)\n",
        "  plt.xticks(df.columns, rotation=90)\n",
        "  plt.show()\n",
        "  \n",
        "  return P\n",
        "\n",
        "pca(df[[1,2,3,4,5,6,9,10,12,13,14,15,17,18,20,21,22,23,25,26,27,28]])\n",
        "dict[14], df[14]"
      ],
      "execution_count": null,
      "outputs": [
        {
          "output_type": "display_data",
          "data": {
            "image/png": "[encoded data removed]",
            "text/plain": [
              "<Figure size 864x288 with 1 Axes>"
            ]
          },
          "metadata": {
            "tags": []
          }
        },
        {
          "output_type": "execute_result",
          "data": {
            "text/plain": [
              "('How many times did you exercise this week?',\n",
              " 0     3\n",
              " 1     5\n",
              " 2     2\n",
              " 3     4\n",
              " 4     5\n",
              " 5     2\n",
              " 6     3\n",
              " 7     6\n",
              " 8     0\n",
              " 9     4\n",
              " 10    3\n",
              " 11    1\n",
              " 12    1\n",
              " 13    2\n",
              " 14    0\n",
              " 15    0\n",
              " 16    1\n",
              " 17    2\n",
              " 18    6\n",
              " 19    2\n",
              " 20    0\n",
              " 21    2\n",
              " 22    6\n",
              " 23    0\n",
              " 24    1\n",
              " 25    3\n",
              " 26    2\n",
              " 27    1\n",
              " 28    4\n",
              " 29    2\n",
              " 30    2\n",
              " 31    1\n",
              " 32    2\n",
              " 33    3\n",
              " 34    5\n",
              " 35    2\n",
              " 36    2\n",
              " 37    0\n",
              " 38    4\n",
              " 39    1\n",
              " 40    0\n",
              " 41    2\n",
              " 42    1\n",
              " 43    3\n",
              " 44    0\n",
              " Name: 14, dtype: int64)"
            ]
          },
          "metadata": {
            "tags": []
          },
          "execution_count": 10
        }
      ]
    },
    {
      "cell_type": "markdown",
      "metadata": {
        "id": "bUtFUhfLlq_i"
      },
      "source": [
        "<a name='a'></a>\n",
        "# 3. Fixed Entry Feature Investigation\n",
        "\n",
        "Picking columns with multiple choice / yes-no answers to compare with memory results"
      ]
    },
    {
      "cell_type": "markdown",
      "metadata": {
        "id": "2zB3RKQu3f-w"
      },
      "source": [
        "ENTER QUESTION NUMBER HERE"
      ]
    },
    {
      "cell_type": "code",
      "metadata": {
        "colab": {
          "base_uri": "https://localhost:8080/",
          "height": 35
        },
        "id": "rbpkSOxS3Ajx",
        "outputId": "53172c62-4ed8-4e70-f680-7a85c3652596"
      },
      "source": [
        "k = 10\n",
        "\n",
        "#-------------\n",
        "dict[k]\n"
      ],
      "execution_count": null,
      "outputs": [
        {
          "output_type": "execute_result",
          "data": {
            "text/plain": [
              "'Are you listening to anything right now? '"
            ]
          },
          "metadata": {
            "tags": []
          },
          "execution_count": 11
        }
      ]
    },
    {
      "cell_type": "code",
      "metadata": {
        "colab": {
          "base_uri": "https://localhost:8080/",
          "height": 296
        },
        "id": "wky79A594Yiv",
        "outputId": "a3982846-94ee-440b-d444-bda9ee804be0"
      },
      "source": [
        "sns.histplot(df[k])"
      ],
      "execution_count": null,
      "outputs": [
        {
          "output_type": "execute_result",
          "data": {
            "text/plain": [
              "<AxesSubplot:xlabel='10', ylabel='Count'>"
            ]
          },
          "metadata": {
            "tags": []
          },
          "execution_count": 12
        },
        {
          "output_type": "display_data",
          "data": {
            "image/png": "[encoded data removed]",
            "text/plain": [
              "<Figure size 432x288 with 1 Axes>"
            ]
          },
          "metadata": {
            "tags": []
          }
        }
      ]
    },
    {
      "cell_type": "markdown",
      "metadata": {
        "id": "KXsoAX683h8b"
      },
      "source": [
        "ENTER CUTOFF HERE"
      ]
    },
    {
      "cell_type": "code",
      "metadata": {
        "id": "Lgi7m9xC0d3j"
      },
      "source": [
        "cutoff1 = 1"
      ],
      "execution_count": null,
      "outputs": []
    },
    {
      "cell_type": "markdown",
      "metadata": {
        "id": "kpB0Rrf933Hv"
      },
      "source": [
        "-------------------------------------"
      ]
    },
    {
      "cell_type": "code",
      "metadata": {
        "id": "G_cTU-mR3xI1"
      },
      "source": [
        "#df[[k, 30, 31, 32, 33]]"
      ],
      "execution_count": null,
      "outputs": []
    },
    {
      "cell_type": "code",
      "metadata": {
        "colab": {
          "base_uri": "https://localhost:8080/",
          "height": 142
        },
        "id": "2TaSemmcSwJc",
        "outputId": "02c422af-6e9d-484d-86e8-e67f71ae94c1"
      },
      "source": [
        "df[[k, 30, 31, 32, 33]].groupby([k]).mean()"
      ],
      "execution_count": null,
      "outputs": [
        {
          "output_type": "execute_result",
          "data": {
            "text/html": [
              "<div>\n",
              "<style scoped>\n",
              "    .dataframe tbody tr th:only-of-type {\n",
              "        vertical-align: middle;\n",
              "    }\n",
              "\n",
              "    .dataframe tbody tr th {\n",
              "        vertical-align: top;\n",
              "    }\n",
              "\n",
              "    .dataframe thead th {\n",
              "        text-align: right;\n",
              "    }\n",
              "</style>\n",
              "<table border=\"1\" class=\"dataframe\">\n",
              "  <thead>\n",
              "    <tr style=\"text-align: right;\">\n",
              "      <th></th>\n",
              "      <th>30</th>\n",
              "      <th>31</th>\n",
              "      <th>32</th>\n",
              "      <th>33</th>\n",
              "    </tr>\n",
              "    <tr>\n",
              "      <th>10</th>\n",
              "      <th></th>\n",
              "      <th></th>\n",
              "      <th></th>\n",
              "      <th></th>\n",
              "    </tr>\n",
              "  </thead>\n",
              "  <tbody>\n",
              "    <tr>\n",
              "      <th>No</th>\n",
              "      <td>10.000000</td>\n",
              "      <td>10.777778</td>\n",
              "      <td>11.222222</td>\n",
              "      <td>32.000000</td>\n",
              "    </tr>\n",
              "    <tr>\n",
              "      <th>Yes</th>\n",
              "      <td>9.481481</td>\n",
              "      <td>9.962963</td>\n",
              "      <td>11.407407</td>\n",
              "      <td>30.851852</td>\n",
              "    </tr>\n",
              "  </tbody>\n",
              "</table>\n",
              "</div>"
            ],
            "text/plain": [
              "            30         31         32         33\n",
              "10                                             \n",
              "No   10.000000  10.777778  11.222222  32.000000\n",
              "Yes   9.481481   9.962963  11.407407  30.851852"
            ]
          },
          "metadata": {
            "tags": []
          },
          "execution_count": 15
        }
      ]
    },
    {
      "cell_type": "code",
      "metadata": {
        "colab": {
          "base_uri": "https://localhost:8080/",
          "height": 328
        },
        "id": "q4e_TX3uUUB7",
        "outputId": "1b22d6f8-cc54-4238-a0d6-2b057f85e398"
      },
      "source": [
        "df[[k, 30]].groupby([k]).count()"
      ],
      "execution_count": null,
      "outputs": [
        {
          "output_type": "execute_result",
          "data": {
            "text/html": [
              "<div>\n",
              "<style scoped>\n",
              "    .dataframe tbody tr th:only-of-type {\n",
              "        vertical-align: middle;\n",
              "    }\n",
              "\n",
              "    .dataframe tbody tr th {\n",
              "        vertical-align: top;\n",
              "    }\n",
              "\n",
              "    .dataframe thead th {\n",
              "        text-align: right;\n",
              "    }\n",
              "</style>\n",
              "<table border=\"1\" class=\"dataframe\">\n",
              "  <thead>\n",
              "    <tr style=\"text-align: right;\">\n",
              "      <th></th>\n",
              "      <th>30</th>\n",
              "    </tr>\n",
              "    <tr>\n",
              "      <th>10</th>\n",
              "      <th></th>\n",
              "    </tr>\n",
              "  </thead>\n",
              "  <tbody>\n",
              "    <tr>\n",
              "      <th>No</th>\n",
              "      <td>18</td>\n",
              "    </tr>\n",
              "    <tr>\n",
              "      <th>Yes</th>\n",
              "      <td>27</td>\n",
              "    </tr>\n",
              "  </tbody>\n",
              "</table>\n",
              "</div>"
            ],
            "text/plain": [
              "     30\n",
              "10     \n",
              "No   18\n",
              "Yes  27"
            ]
          },
          "metadata": {
            "tags": []
          },
          "execution_count": 16
        }
      ]
    },
    {
      "cell_type": "code",
      "metadata": {
        "id": "MM1IzZFRUn49"
      },
      "source": [
        ""
      ],
      "execution_count": null,
      "outputs": []
    },
    {
      "cell_type": "markdown",
      "metadata": {
        "id": "Sul-KI5NUoOl"
      },
      "source": [
        "-------------------------------------------------------------"
      ]
    },
    {
      "cell_type": "markdown",
      "metadata": {
        "id": "mhs_rkopUpwB"
      },
      "source": [
        "## Numerical X-axis only"
      ]
    },
    {
      "cell_type": "markdown",
      "metadata": {
        "id": "cX_WZ5UQ0P2P"
      },
      "source": [
        "Average scores with less than CUTOFF"
      ]
    },
    {
      "cell_type": "code",
      "metadata": {
        "id": "5Uq__1I4zwJa"
      },
      "source": [
        "# np.average(df[df[k] <= cutoff1][30]), np.average(df[df[k] <= cutoff1][31]), np.average(df[df[k] <= cutoff1][32]), np.average(df[df[k] <= cutoff1][33])"
      ],
      "execution_count": null,
      "outputs": []
    },
    {
      "cell_type": "markdown",
      "metadata": {
        "id": "cz0B55Eb0azl"
      },
      "source": [
        "Average scores with more than CUTOFF"
      ]
    },
    {
      "cell_type": "code",
      "metadata": {
        "id": "yN4fn8-D0Isk"
      },
      "source": [
        "# np.average(df[df[k] > cutoff1][30]), np.average(df[df[k] > cutoff1][31]), np.average(df[df[k] > cutoff1][32]), np.average(df[df[k] > cutoff1][33])"
      ],
      "execution_count": null,
      "outputs": []
    },
    {
      "cell_type": "markdown",
      "metadata": {
        "id": "OPOmIvqO0-k-"
      },
      "source": [
        "Graphs"
      ]
    },
    {
      "cell_type": "code",
      "metadata": {
        "id": "8_3rSbHddhtS"
      },
      "source": [
        "# low = False"
      ],
      "execution_count": null,
      "outputs": []
    },
    {
      "cell_type": "code",
      "metadata": {
        "id": "tQ3Auz9s1E0-"
      },
      "source": [
        "# sns.regplot(x=df[k], y=df[30], color=\"r\"\n",
        "#       , lowess=low\n",
        "#       )\n",
        "\n",
        "# np.corrcoef(df[k], df[30])[0, 1]\n"
      ],
      "execution_count": null,
      "outputs": []
    },
    {
      "cell_type": "code",
      "metadata": {
        "id": "-xhbv5nm1zbV"
      },
      "source": [
        "# sns.regplot(x=df[k], y=df[31], color=\"y\"\n",
        "#       , lowess=low\n",
        "#       )\n",
        "\n",
        "# np.corrcoef(df[k], df[31])[0, 1]"
      ],
      "execution_count": null,
      "outputs": []
    },
    {
      "cell_type": "code",
      "metadata": {
        "id": "ISti2pDU11mM"
      },
      "source": [
        "# sns.regplot(x=df[k], y=df[32], color=\"g\"\n",
        "#       , lowess=low\n",
        "#       )\n",
        "\n",
        "# np.corrcoef(df[k], df[32])[0, 1]"
      ],
      "execution_count": null,
      "outputs": []
    },
    {
      "cell_type": "code",
      "metadata": {
        "id": "jgbHHSTr11uO"
      },
      "source": [
        "# sns.regplot(x=df[k], y=df[33], color=\"b\"\n",
        "#       , lowess=low\n",
        "#       )\n",
        "\n",
        "# np.corrcoef(df[k], df[33])[0, 1]"
      ],
      "execution_count": null,
      "outputs": []
    },
    {
      "cell_type": "markdown",
      "metadata": {
        "id": "lbYrPPnEmqYf"
      },
      "source": [
        "<a name='b'></a>\n",
        "# 4.  Variable Entry Feature Investigation\n",
        "\n",
        "Picking columns with free response entries to compare with memory results"
      ]
    },
    {
      "cell_type": "markdown",
      "metadata": {
        "id": "LPEA1KA8m8YC"
      },
      "source": [
        "<a name='c'></a>\n",
        "# 5. Other\n",
        "\n",
        "Anything that does not involve memory tests as a comparison"
      ]
    },
    {
      "cell_type": "markdown",
      "metadata": {
        "id": "dZ7H7RsVEZu2"
      },
      "source": [
        "# 6. Heatmap - Comparing Independent Variables"
      ]
    },
    {
      "cell_type": "code",
      "metadata": {
        "id": "xi3-ckxAEZu2",
        "outputId": "dc07f177-35fe-4e89-b5d1-5c26cf01c7de"
      },
      "source": [
        "reduced = df[[6, 17, 20, 30, 31, 32, 33]]\n",
        "reduced = reduced.rename(columns = {6:\"Average Daily Screentime (hrs)\", 17:\"Average Alcohol Intake (# of drinks)\", 20:\"Sleep Last Night (hrs)\", \n",
        "                                   30: \"Number Memory\", 31: \"Sequence Memory\", 32: \"Visual Memory\", 33: \"Overall Memory\"})\n",
        "reduced.head()"
      ],
      "execution_count": null,
      "outputs": [
        {
          "output_type": "execute_result",
          "data": {
            "text/html": [
              "<div>\n",
              "<style scoped>\n",
              "    .dataframe tbody tr th:only-of-type {\n",
              "        vertical-align: middle;\n",
              "    }\n",
              "\n",
              "    .dataframe tbody tr th {\n",
              "        vertical-align: top;\n",
              "    }\n",
              "\n",
              "    .dataframe thead th {\n",
              "        text-align: right;\n",
              "    }\n",
              "</style>\n",
              "<table border=\"1\" class=\"dataframe\">\n",
              "  <thead>\n",
              "    <tr style=\"text-align: right;\">\n",
              "      <th></th>\n",
              "      <th>Average Daily Screentime (hrs)</th>\n",
              "      <th>Average Alcohol Intake (# of drinks)</th>\n",
              "      <th>Sleep Last Night (hrs)</th>\n",
              "      <th>Number Memory</th>\n",
              "      <th>Sequence Memory</th>\n",
              "      <th>Visual Memory</th>\n",
              "      <th>Overall Memory</th>\n",
              "    </tr>\n",
              "  </thead>\n",
              "  <tbody>\n",
              "    <tr>\n",
              "      <th>0</th>\n",
              "      <td>6-8</td>\n",
              "      <td>5-6</td>\n",
              "      <td>5 - 7 hrs</td>\n",
              "      <td>10</td>\n",
              "      <td>10</td>\n",
              "      <td>10</td>\n",
              "      <td>30</td>\n",
              "    </tr>\n",
              "    <tr>\n",
              "      <th>1</th>\n",
              "      <td>4-6</td>\n",
              "      <td>7+</td>\n",
              "      <td>5 - 7 hrs</td>\n",
              "      <td>9</td>\n",
              "      <td>8</td>\n",
              "      <td>9</td>\n",
              "      <td>26</td>\n",
              "    </tr>\n",
              "    <tr>\n",
              "      <th>2</th>\n",
              "      <td>4-6</td>\n",
              "      <td>1-2</td>\n",
              "      <td>8 - 10 hrs</td>\n",
              "      <td>8</td>\n",
              "      <td>6</td>\n",
              "      <td>11</td>\n",
              "      <td>25</td>\n",
              "    </tr>\n",
              "    <tr>\n",
              "      <th>3</th>\n",
              "      <td>6-8</td>\n",
              "      <td>1-2</td>\n",
              "      <td>5 - 7 hrs</td>\n",
              "      <td>11</td>\n",
              "      <td>9</td>\n",
              "      <td>9</td>\n",
              "      <td>29</td>\n",
              "    </tr>\n",
              "    <tr>\n",
              "      <th>4</th>\n",
              "      <td>4-6</td>\n",
              "      <td>7+</td>\n",
              "      <td>5 - 7 hrs</td>\n",
              "      <td>10</td>\n",
              "      <td>16</td>\n",
              "      <td>11</td>\n",
              "      <td>37</td>\n",
              "    </tr>\n",
              "  </tbody>\n",
              "</table>\n",
              "</div>"
            ],
            "text/plain": [
              "  Average Daily Screentime (hrs) Average Alcohol Intake (# of drinks)  \\\n",
              "0                            6-8                                  5-6   \n",
              "1                            4-6                                   7+   \n",
              "2                            4-6                                  1-2   \n",
              "3                            6-8                                  1-2   \n",
              "4                            4-6                                   7+   \n",
              "\n",
              "  Sleep Last Night (hrs)  Number Memory  Sequence Memory  Visual Memory  \\\n",
              "0              5 - 7 hrs             10               10             10   \n",
              "1              5 - 7 hrs              9                8              9   \n",
              "2             8 - 10 hrs              8                6             11   \n",
              "3              5 - 7 hrs             11                9              9   \n",
              "4              5 - 7 hrs             10               16             11   \n",
              "\n",
              "   Overall Memory  \n",
              "0              30  \n",
              "1              26  \n",
              "2              25  \n",
              "3              29  \n",
              "4              37  "
            ]
          },
          "metadata": {
            "tags": []
          },
          "execution_count": 24
        }
      ]
    },
    {
      "cell_type": "markdown",
      "metadata": {
        "id": "QNyAYkDsEZu3"
      },
      "source": [
        "### Variable Pairs: \n",
        "1. Screentime and Alcohol \n",
        "2. Screentime and Sleep \n",
        "3. Alcohol and Sleep  "
      ]
    },
    {
      "cell_type": "code",
      "metadata": {
        "id": "RyuTH4BzEZu3",
        "outputId": "3847980d-8eca-4c75-b54e-1bc795e7e916"
      },
      "source": [
        "screen_alc = pd.pivot_table(reduced, values = \"Overall Memory\", index = \"Average Daily Screentime (hrs)\", columns = \"Average Alcohol Intake (# of drinks)\", aggfunc = np.average)\n",
        "screen_alc = screen_alc.reindex(index = [\"10+\", \"8-10\", \"6-8\", \"4-6\",\"2-4\"])\n",
        "screen_alc = screen_alc[[\"I drink juice\", \"<1\", \"1-2\", \"3-4\", \"5-6\", \"7+\"]]\n",
        "screen_alc.head()"
      ],
      "execution_count": null,
      "outputs": [
        {
          "output_type": "execute_result",
          "data": {
            "text/html": [
              "<div>\n",
              "<style scoped>\n",
              "    .dataframe tbody tr th:only-of-type {\n",
              "        vertical-align: middle;\n",
              "    }\n",
              "\n",
              "    .dataframe tbody tr th {\n",
              "        vertical-align: top;\n",
              "    }\n",
              "\n",
              "    .dataframe thead th {\n",
              "        text-align: right;\n",
              "    }\n",
              "</style>\n",
              "<table border=\"1\" class=\"dataframe\">\n",
              "  <thead>\n",
              "    <tr style=\"text-align: right;\">\n",
              "      <th>Average Alcohol Intake (# of drinks)</th>\n",
              "      <th>I drink juice</th>\n",
              "      <th>&lt;1</th>\n",
              "      <th>1-2</th>\n",
              "      <th>3-4</th>\n",
              "      <th>5-6</th>\n",
              "      <th>7+</th>\n",
              "    </tr>\n",
              "    <tr>\n",
              "      <th>Average Daily Screentime (hrs)</th>\n",
              "      <th></th>\n",
              "      <th></th>\n",
              "      <th></th>\n",
              "      <th></th>\n",
              "      <th></th>\n",
              "      <th></th>\n",
              "    </tr>\n",
              "  </thead>\n",
              "  <tbody>\n",
              "    <tr>\n",
              "      <th>10+</th>\n",
              "      <td>32.000000</td>\n",
              "      <td>30.000000</td>\n",
              "      <td>23.0</td>\n",
              "      <td>28.500000</td>\n",
              "      <td>NaN</td>\n",
              "      <td>NaN</td>\n",
              "    </tr>\n",
              "    <tr>\n",
              "      <th>8-10</th>\n",
              "      <td>NaN</td>\n",
              "      <td>50.000000</td>\n",
              "      <td>47.0</td>\n",
              "      <td>25.333333</td>\n",
              "      <td>NaN</td>\n",
              "      <td>NaN</td>\n",
              "    </tr>\n",
              "    <tr>\n",
              "      <th>6-8</th>\n",
              "      <td>31.333333</td>\n",
              "      <td>NaN</td>\n",
              "      <td>29.6</td>\n",
              "      <td>33.333333</td>\n",
              "      <td>30.0</td>\n",
              "      <td>24.0</td>\n",
              "    </tr>\n",
              "    <tr>\n",
              "      <th>4-6</th>\n",
              "      <td>40.000000</td>\n",
              "      <td>29.333333</td>\n",
              "      <td>28.0</td>\n",
              "      <td>37.000000</td>\n",
              "      <td>27.5</td>\n",
              "      <td>31.5</td>\n",
              "    </tr>\n",
              "    <tr>\n",
              "      <th>2-4</th>\n",
              "      <td>33.666667</td>\n",
              "      <td>NaN</td>\n",
              "      <td>NaN</td>\n",
              "      <td>36.000000</td>\n",
              "      <td>NaN</td>\n",
              "      <td>39.0</td>\n",
              "    </tr>\n",
              "  </tbody>\n",
              "</table>\n",
              "</div>"
            ],
            "text/plain": [
              "Average Alcohol Intake (# of drinks)  I drink juice         <1   1-2  \\\n",
              "Average Daily Screentime (hrs)                                         \n",
              "10+                                       32.000000  30.000000  23.0   \n",
              "8-10                                            NaN  50.000000  47.0   \n",
              "6-8                                       31.333333        NaN  29.6   \n",
              "4-6                                       40.000000  29.333333  28.0   \n",
              "2-4                                       33.666667        NaN   NaN   \n",
              "\n",
              "Average Alcohol Intake (# of drinks)        3-4   5-6    7+  \n",
              "Average Daily Screentime (hrs)                               \n",
              "10+                                   28.500000   NaN   NaN  \n",
              "8-10                                  25.333333   NaN   NaN  \n",
              "6-8                                   33.333333  30.0  24.0  \n",
              "4-6                                   37.000000  27.5  31.5  \n",
              "2-4                                   36.000000   NaN  39.0  "
            ]
          },
          "metadata": {
            "tags": []
          },
          "execution_count": 25
        }
      ]
    },
    {
      "cell_type": "code",
      "metadata": {
        "id": "rTEAd1XcEZu3",
        "outputId": "efbc7b56-5433-4c3e-a7d6-247e88f4860a"
      },
      "source": [
        "sns.heatmap(screen_alc, annot = True, cmap = \"YlGnBu\")\n",
        "plt.title(\"Average Screentime and Alcohol Intake on Overall Memory\", fontsize = 15)\n",
        "sns.set(font_scale = 1.0)"
      ],
      "execution_count": null,
      "outputs": [
        {
          "output_type": "display_data",
          "data": {
            "image/png": "[encoded data removed]",
            "text/plain": [
              "<Figure size 432x288 with 2 Axes>"
            ]
          },
          "metadata": {
            "tags": []
          }
        }
      ]
    },
    {
      "cell_type": "code",
      "metadata": {
        "id": "XrBnV6J-EZu4",
        "outputId": "be64555b-79a5-4037-eeed-c85731e6847a"
      },
      "source": [
        "screen_sleep = pd.pivot_table(reduced, values = \"Overall Memory\", index = \"Average Daily Screentime (hrs)\", columns = \"Sleep Last Night (hrs)\", aggfunc = np.average)\n",
        "screen_sleep = screen_sleep.reindex(index = [\"10+\", \"8-10\", \"6-8\", \"4-6\",\"2-4\"])\n",
        "screen_sleep = screen_sleep[[\"5 - 7 hrs\", \"8 - 10 hrs\", \"10+ hrs\"]]\n",
        "screen_sleep"
      ],
      "execution_count": null,
      "outputs": [
        {
          "output_type": "execute_result",
          "data": {
            "text/html": [
              "<div>\n",
              "<style scoped>\n",
              "    .dataframe tbody tr th:only-of-type {\n",
              "        vertical-align: middle;\n",
              "    }\n",
              "\n",
              "    .dataframe tbody tr th {\n",
              "        vertical-align: top;\n",
              "    }\n",
              "\n",
              "    .dataframe thead th {\n",
              "        text-align: right;\n",
              "    }\n",
              "</style>\n",
              "<table border=\"1\" class=\"dataframe\">\n",
              "  <thead>\n",
              "    <tr style=\"text-align: right;\">\n",
              "      <th>Sleep Last Night (hrs)</th>\n",
              "      <th>5 - 7 hrs</th>\n",
              "      <th>8 - 10 hrs</th>\n",
              "      <th>10+ hrs</th>\n",
              "    </tr>\n",
              "    <tr>\n",
              "      <th>Average Daily Screentime (hrs)</th>\n",
              "      <th></th>\n",
              "      <th></th>\n",
              "      <th></th>\n",
              "    </tr>\n",
              "  </thead>\n",
              "  <tbody>\n",
              "    <tr>\n",
              "      <th>10+</th>\n",
              "      <td>29.500</td>\n",
              "      <td>28.666667</td>\n",
              "      <td>NaN</td>\n",
              "    </tr>\n",
              "    <tr>\n",
              "      <th>8-10</th>\n",
              "      <td>29.000</td>\n",
              "      <td>43.000000</td>\n",
              "      <td>NaN</td>\n",
              "    </tr>\n",
              "    <tr>\n",
              "      <th>6-8</th>\n",
              "      <td>28.125</td>\n",
              "      <td>34.200000</td>\n",
              "      <td>NaN</td>\n",
              "    </tr>\n",
              "    <tr>\n",
              "      <th>4-6</th>\n",
              "      <td>31.500</td>\n",
              "      <td>26.250000</td>\n",
              "      <td>40.0</td>\n",
              "    </tr>\n",
              "    <tr>\n",
              "      <th>2-4</th>\n",
              "      <td>37.500</td>\n",
              "      <td>31.000000</td>\n",
              "      <td>NaN</td>\n",
              "    </tr>\n",
              "  </tbody>\n",
              "</table>\n",
              "</div>"
            ],
            "text/plain": [
              "Sleep Last Night (hrs)          5 - 7 hrs  8 - 10 hrs  10+ hrs\n",
              "Average Daily Screentime (hrs)                                \n",
              "10+                                29.500   28.666667      NaN\n",
              "8-10                               29.000   43.000000      NaN\n",
              "6-8                                28.125   34.200000      NaN\n",
              "4-6                                31.500   26.250000     40.0\n",
              "2-4                                37.500   31.000000      NaN"
            ]
          },
          "metadata": {
            "tags": []
          },
          "execution_count": 28
        }
      ]
    },
    {
      "cell_type": "code",
      "metadata": {
        "id": "LrC2VCHoEZu5",
        "outputId": "d424765a-a9bc-480d-a113-743dd042c9ef"
      },
      "source": [
        "sns.heatmap(screen_sleep, annot = True, cmap = \"YlGnBu\")\n",
        "plt.title(\"Average Screentime and Sleep on Overall Memory\", fontsize = 15)"
      ],
      "execution_count": null,
      "outputs": [
        {
          "output_type": "execute_result",
          "data": {
            "text/plain": [
              "Text(0.5, 1.0, 'Average Screentime and Sleep on Overall Memory')"
            ]
          },
          "metadata": {
            "tags": []
          },
          "execution_count": 29
        },
        {
          "output_type": "display_data",
          "data": {
            "image/png": "[encoded data removed]",
            "text/plain": [
              "<Figure size 432x288 with 2 Axes>"
            ]
          },
          "metadata": {
            "tags": []
          }
        }
      ]
    },
    {
      "cell_type": "code",
      "metadata": {
        "id": "vUd9uCRFEZu5",
        "outputId": "7e2dd741-75d2-4337-b298-3be5ffd464c9"
      },
      "source": [
        "sleep_alc = pd.pivot_table(reduced, values = \"Overall Memory\", index = \"Sleep Last Night (hrs)\", columns = \"Average Alcohol Intake (# of drinks)\", aggfunc = np.average)\n",
        "sleep_alc = sleep_alc.reindex(index = [\"10+ hrs\", \"8 - 10 hrs\", \"5 - 7 hrs\"])\n",
        "sleep_alc = sleep_alc[[\"I drink juice\", \"<1\", \"1-2\", \"3-4\", \"5-6\", \"7+\"]]\n",
        "sleep_alc"
      ],
      "execution_count": null,
      "outputs": [
        {
          "output_type": "execute_result",
          "data": {
            "text/html": [
              "<div>\n",
              "<style scoped>\n",
              "    .dataframe tbody tr th:only-of-type {\n",
              "        vertical-align: middle;\n",
              "    }\n",
              "\n",
              "    .dataframe tbody tr th {\n",
              "        vertical-align: top;\n",
              "    }\n",
              "\n",
              "    .dataframe thead th {\n",
              "        text-align: right;\n",
              "    }\n",
              "</style>\n",
              "<table border=\"1\" class=\"dataframe\">\n",
              "  <thead>\n",
              "    <tr style=\"text-align: right;\">\n",
              "      <th>Average Alcohol Intake (# of drinks)</th>\n",
              "      <th>I drink juice</th>\n",
              "      <th>&lt;1</th>\n",
              "      <th>1-2</th>\n",
              "      <th>3-4</th>\n",
              "      <th>5-6</th>\n",
              "      <th>7+</th>\n",
              "    </tr>\n",
              "    <tr>\n",
              "      <th>Sleep Last Night (hrs)</th>\n",
              "      <th></th>\n",
              "      <th></th>\n",
              "      <th></th>\n",
              "      <th></th>\n",
              "      <th></th>\n",
              "      <th></th>\n",
              "    </tr>\n",
              "  </thead>\n",
              "  <tbody>\n",
              "    <tr>\n",
              "      <th>10+ hrs</th>\n",
              "      <td>40.00</td>\n",
              "      <td>NaN</td>\n",
              "      <td>NaN</td>\n",
              "      <td>NaN</td>\n",
              "      <td>NaN</td>\n",
              "      <td>NaN</td>\n",
              "    </tr>\n",
              "    <tr>\n",
              "      <th>8 - 10 hrs</th>\n",
              "      <td>30.75</td>\n",
              "      <td>30.0</td>\n",
              "      <td>29.75</td>\n",
              "      <td>39.666667</td>\n",
              "      <td>NaN</td>\n",
              "      <td>NaN</td>\n",
              "    </tr>\n",
              "    <tr>\n",
              "      <th>5 - 7 hrs</th>\n",
              "      <td>34.00</td>\n",
              "      <td>33.6</td>\n",
              "      <td>30.00</td>\n",
              "      <td>28.000000</td>\n",
              "      <td>28.333333</td>\n",
              "      <td>29.0</td>\n",
              "    </tr>\n",
              "  </tbody>\n",
              "</table>\n",
              "</div>"
            ],
            "text/plain": [
              "Average Alcohol Intake (# of drinks)  I drink juice    <1    1-2        3-4  \\\n",
              "Sleep Last Night (hrs)                                                        \n",
              "10+ hrs                                       40.00   NaN    NaN        NaN   \n",
              "8 - 10 hrs                                    30.75  30.0  29.75  39.666667   \n",
              "5 - 7 hrs                                     34.00  33.6  30.00  28.000000   \n",
              "\n",
              "Average Alcohol Intake (# of drinks)        5-6    7+  \n",
              "Sleep Last Night (hrs)                                 \n",
              "10+ hrs                                     NaN   NaN  \n",
              "8 - 10 hrs                                  NaN   NaN  \n",
              "5 - 7 hrs                             28.333333  29.0  "
            ]
          },
          "metadata": {
            "tags": []
          },
          "execution_count": 30
        }
      ]
    },
    {
      "cell_type": "code",
      "metadata": {
        "id": "TUwMz3scEZu5",
        "outputId": "de72edc7-0af4-4427-8af3-c2b3905e23d4"
      },
      "source": [
        "sns.heatmap(sleep_alc, annot = True, cmap = \"YlGnBu\")\n",
        "plt.title(\"Average Sleep and Alcohol Intake on Overall Memory\", fontsize = 15)"
      ],
      "execution_count": null,
      "outputs": [
        {
          "output_type": "execute_result",
          "data": {
            "text/plain": [
              "Text(0.5, 1.0, 'Average Sleep and Alcohol Intake on Overall Memory')"
            ]
          },
          "metadata": {
            "tags": []
          },
          "execution_count": 31
        },
        {
          "output_type": "display_data",
          "data": {
            "image/png": "[encoded data removed]",
            "text/plain": [
              "<Figure size 432x288 with 2 Axes>"
            ]
          },
          "metadata": {
            "tags": []
          }
        }
      ]
    },
    {
      "cell_type": "code",
      "metadata": {
        "id": "XszAN57EEZu5",
        "outputId": "18909e3f-503b-4a04-87b9-d164f4f20bd1"
      },
      "source": [
        "screen_alc_num = pd.pivot_table(reduced, values = \"Number Memory\", index = \"Average Daily Screentime (hrs)\", columns = \"Average Alcohol Intake (# of drinks)\", aggfunc = np.average)\n",
        "screen_alc_num = screen_alc_num.reindex(index = [\"10+\", \"8-10\", \"6-8\", \"4-6\",\"2-4\"])\n",
        "screen_alc_num = screen_alc_num[[\"I drink juice\", \"<1\", \"1-2\", \"3-4\", \"5-6\", \"7+\"]]\n",
        "screen_alc_num.head()"
      ],
      "execution_count": null,
      "outputs": [
        {
          "output_type": "execute_result",
          "data": {
            "text/html": [
              "<div>\n",
              "<style scoped>\n",
              "    .dataframe tbody tr th:only-of-type {\n",
              "        vertical-align: middle;\n",
              "    }\n",
              "\n",
              "    .dataframe tbody tr th {\n",
              "        vertical-align: top;\n",
              "    }\n",
              "\n",
              "    .dataframe thead th {\n",
              "        text-align: right;\n",
              "    }\n",
              "</style>\n",
              "<table border=\"1\" class=\"dataframe\">\n",
              "  <thead>\n",
              "    <tr style=\"text-align: right;\">\n",
              "      <th>Average Alcohol Intake (# of drinks)</th>\n",
              "      <th>I drink juice</th>\n",
              "      <th>&lt;1</th>\n",
              "      <th>1-2</th>\n",
              "      <th>3-4</th>\n",
              "      <th>5-6</th>\n",
              "      <th>7+</th>\n",
              "    </tr>\n",
              "    <tr>\n",
              "      <th>Average Daily Screentime (hrs)</th>\n",
              "      <th></th>\n",
              "      <th></th>\n",
              "      <th></th>\n",
              "      <th></th>\n",
              "      <th></th>\n",
              "      <th></th>\n",
              "    </tr>\n",
              "  </thead>\n",
              "  <tbody>\n",
              "    <tr>\n",
              "      <th>10+</th>\n",
              "      <td>10.500000</td>\n",
              "      <td>9.500000</td>\n",
              "      <td>8.0</td>\n",
              "      <td>8.500000</td>\n",
              "      <td>NaN</td>\n",
              "      <td>NaN</td>\n",
              "    </tr>\n",
              "    <tr>\n",
              "      <th>8-10</th>\n",
              "      <td>NaN</td>\n",
              "      <td>13.000000</td>\n",
              "      <td>11.0</td>\n",
              "      <td>7.666667</td>\n",
              "      <td>NaN</td>\n",
              "      <td>NaN</td>\n",
              "    </tr>\n",
              "    <tr>\n",
              "      <th>6-8</th>\n",
              "      <td>9.666667</td>\n",
              "      <td>NaN</td>\n",
              "      <td>9.6</td>\n",
              "      <td>10.666667</td>\n",
              "      <td>10.0</td>\n",
              "      <td>8.0</td>\n",
              "    </tr>\n",
              "    <tr>\n",
              "      <th>4-6</th>\n",
              "      <td>9.000000</td>\n",
              "      <td>8.666667</td>\n",
              "      <td>9.4</td>\n",
              "      <td>12.000000</td>\n",
              "      <td>9.0</td>\n",
              "      <td>9.5</td>\n",
              "    </tr>\n",
              "    <tr>\n",
              "      <th>2-4</th>\n",
              "      <td>10.666667</td>\n",
              "      <td>NaN</td>\n",
              "      <td>NaN</td>\n",
              "      <td>12.000000</td>\n",
              "      <td>NaN</td>\n",
              "      <td>10.0</td>\n",
              "    </tr>\n",
              "  </tbody>\n",
              "</table>\n",
              "</div>"
            ],
            "text/plain": [
              "Average Alcohol Intake (# of drinks)  I drink juice         <1   1-2  \\\n",
              "Average Daily Screentime (hrs)                                         \n",
              "10+                                       10.500000   9.500000   8.0   \n",
              "8-10                                            NaN  13.000000  11.0   \n",
              "6-8                                        9.666667        NaN   9.6   \n",
              "4-6                                        9.000000   8.666667   9.4   \n",
              "2-4                                       10.666667        NaN   NaN   \n",
              "\n",
              "Average Alcohol Intake (# of drinks)        3-4   5-6    7+  \n",
              "Average Daily Screentime (hrs)                               \n",
              "10+                                    8.500000   NaN   NaN  \n",
              "8-10                                   7.666667   NaN   NaN  \n",
              "6-8                                   10.666667  10.0   8.0  \n",
              "4-6                                   12.000000   9.0   9.5  \n",
              "2-4                                   12.000000   NaN  10.0  "
            ]
          },
          "metadata": {
            "tags": []
          },
          "execution_count": 32
        }
      ]
    },
    {
      "cell_type": "code",
      "metadata": {
        "id": "hmNQmxlWEZu6",
        "outputId": "5908233d-0e03-4c50-90bc-af6b7bf015f3"
      },
      "source": [
        "sns.heatmap(screen_alc_num, annot = True, cmap = \"Reds\")\n",
        "plt.title(\"Average Screentime and Alcohol Intake on Number Memory\", fontsize = 15)\n",
        "sns.set(font_scale = 1.0)"
      ],
      "execution_count": null,
      "outputs": [
        {
          "output_type": "display_data",
          "data": {
            "image/png": "[encoded data removed]",
            "text/plain": [
              "<Figure size 432x288 with 2 Axes>"
            ]
          },
          "metadata": {
            "tags": []
          }
        }
      ]
    },
    {
      "cell_type": "code",
      "metadata": {
        "id": "qoRYWy5dEZu6",
        "outputId": "f561c97d-060d-4d50-ce17-9b7b4e6e4b03"
      },
      "source": [
        "screen_sleep_num = pd.pivot_table(reduced, values = \"Number Memory\", index = \"Average Daily Screentime (hrs)\", columns = \"Sleep Last Night (hrs)\", aggfunc = np.average)\n",
        "screen_sleep_num = screen_sleep_num.reindex(index = [\"10+\", \"8-10\", \"6-8\", \"4-6\",\"2-4\"])\n",
        "screen_sleep_num = screen_sleep_num[[\"5 - 7 hrs\", \"8 - 10 hrs\", \"10+ hrs\"]]\n",
        "screen_sleep_num.head()"
      ],
      "execution_count": null,
      "outputs": [
        {
          "output_type": "execute_result",
          "data": {
            "text/html": [
              "<div>\n",
              "<style scoped>\n",
              "    .dataframe tbody tr th:only-of-type {\n",
              "        vertical-align: middle;\n",
              "    }\n",
              "\n",
              "    .dataframe tbody tr th {\n",
              "        vertical-align: top;\n",
              "    }\n",
              "\n",
              "    .dataframe thead th {\n",
              "        text-align: right;\n",
              "    }\n",
              "</style>\n",
              "<table border=\"1\" class=\"dataframe\">\n",
              "  <thead>\n",
              "    <tr style=\"text-align: right;\">\n",
              "      <th>Sleep Last Night (hrs)</th>\n",
              "      <th>5 - 7 hrs</th>\n",
              "      <th>8 - 10 hrs</th>\n",
              "      <th>10+ hrs</th>\n",
              "    </tr>\n",
              "    <tr>\n",
              "      <th>Average Daily Screentime (hrs)</th>\n",
              "      <th></th>\n",
              "      <th></th>\n",
              "      <th></th>\n",
              "    </tr>\n",
              "  </thead>\n",
              "  <tbody>\n",
              "    <tr>\n",
              "      <th>10+</th>\n",
              "      <td>9.500</td>\n",
              "      <td>9.00</td>\n",
              "      <td>NaN</td>\n",
              "    </tr>\n",
              "    <tr>\n",
              "      <th>8-10</th>\n",
              "      <td>8.000</td>\n",
              "      <td>11.50</td>\n",
              "      <td>NaN</td>\n",
              "    </tr>\n",
              "    <tr>\n",
              "      <th>6-8</th>\n",
              "      <td>9.625</td>\n",
              "      <td>10.00</td>\n",
              "      <td>NaN</td>\n",
              "    </tr>\n",
              "    <tr>\n",
              "      <th>4-6</th>\n",
              "      <td>9.900</td>\n",
              "      <td>8.75</td>\n",
              "      <td>9.0</td>\n",
              "    </tr>\n",
              "    <tr>\n",
              "      <th>2-4</th>\n",
              "      <td>11.000</td>\n",
              "      <td>11.00</td>\n",
              "      <td>NaN</td>\n",
              "    </tr>\n",
              "  </tbody>\n",
              "</table>\n",
              "</div>"
            ],
            "text/plain": [
              "Sleep Last Night (hrs)          5 - 7 hrs  8 - 10 hrs  10+ hrs\n",
              "Average Daily Screentime (hrs)                                \n",
              "10+                                 9.500        9.00      NaN\n",
              "8-10                                8.000       11.50      NaN\n",
              "6-8                                 9.625       10.00      NaN\n",
              "4-6                                 9.900        8.75      9.0\n",
              "2-4                                11.000       11.00      NaN"
            ]
          },
          "metadata": {
            "tags": []
          },
          "execution_count": 34
        }
      ]
    },
    {
      "cell_type": "code",
      "metadata": {
        "id": "kf_1L7nFEZu6",
        "outputId": "f45e58cc-f74a-4e19-ffd0-672780660c31"
      },
      "source": [
        "sns.heatmap(screen_sleep, annot = True, cmap = \"Reds\")\n",
        "plt.title(\"Average Screentime and Sleep on Number Memory\", fontsize = 15)"
      ],
      "execution_count": null,
      "outputs": [
        {
          "output_type": "execute_result",
          "data": {
            "text/plain": [
              "Text(0.5, 1.0, 'Average Screentime and Sleep on Number Memory')"
            ]
          },
          "metadata": {
            "tags": []
          },
          "execution_count": 35
        },
        {
          "output_type": "display_data",
          "data": {
            "image/png": "[encoded data removed]",
            "text/plain": [
              "<Figure size 432x288 with 2 Axes>"
            ]
          },
          "metadata": {
            "tags": []
          }
        }
      ]
    },
    {
      "cell_type": "code",
      "metadata": {
        "id": "7PXUtAO_EZu7",
        "outputId": "ccaeae29-4487-4262-d8d4-fa30eba2f32a"
      },
      "source": [
        "sleep_alc_num = pd.pivot_table(reduced, values = \"Number Memory\", index = \"Sleep Last Night (hrs)\", columns = \"Average Alcohol Intake (# of drinks)\", aggfunc = np.average)\n",
        "sleep_alc_num = sleep_alc_num.reindex(index = [\"10+ hrs\", \"8 - 10 hrs\", \"5 - 7 hrs\"])\n",
        "sleep_alc_num = sleep_alc_num[[\"I drink juice\", \"<1\", \"1-2\", \"3-4\", \"5-6\", \"7+\"]]\n",
        "sleep_alc_num.head()"
      ],
      "execution_count": null,
      "outputs": [
        {
          "output_type": "execute_result",
          "data": {
            "text/html": [
              "<div>\n",
              "<style scoped>\n",
              "    .dataframe tbody tr th:only-of-type {\n",
              "        vertical-align: middle;\n",
              "    }\n",
              "\n",
              "    .dataframe tbody tr th {\n",
              "        vertical-align: top;\n",
              "    }\n",
              "\n",
              "    .dataframe thead th {\n",
              "        text-align: right;\n",
              "    }\n",
              "</style>\n",
              "<table border=\"1\" class=\"dataframe\">\n",
              "  <thead>\n",
              "    <tr style=\"text-align: right;\">\n",
              "      <th>Average Alcohol Intake (# of drinks)</th>\n",
              "      <th>I drink juice</th>\n",
              "      <th>&lt;1</th>\n",
              "      <th>1-2</th>\n",
              "      <th>3-4</th>\n",
              "      <th>5-6</th>\n",
              "      <th>7+</th>\n",
              "    </tr>\n",
              "    <tr>\n",
              "      <th>Sleep Last Night (hrs)</th>\n",
              "      <th></th>\n",
              "      <th></th>\n",
              "      <th></th>\n",
              "      <th></th>\n",
              "      <th></th>\n",
              "      <th></th>\n",
              "    </tr>\n",
              "  </thead>\n",
              "  <tbody>\n",
              "    <tr>\n",
              "      <th>10+ hrs</th>\n",
              "      <td>9.00</td>\n",
              "      <td>NaN</td>\n",
              "      <td>NaN</td>\n",
              "      <td>NaN</td>\n",
              "      <td>NaN</td>\n",
              "      <td>NaN</td>\n",
              "    </tr>\n",
              "    <tr>\n",
              "      <th>8 - 10 hrs</th>\n",
              "      <td>9.75</td>\n",
              "      <td>9.0</td>\n",
              "      <td>9.0</td>\n",
              "      <td>12.333333</td>\n",
              "      <td>NaN</td>\n",
              "      <td>NaN</td>\n",
              "    </tr>\n",
              "    <tr>\n",
              "      <th>5 - 7 hrs</th>\n",
              "      <td>10.75</td>\n",
              "      <td>9.8</td>\n",
              "      <td>10.5</td>\n",
              "      <td>8.875000</td>\n",
              "      <td>9.333333</td>\n",
              "      <td>9.0</td>\n",
              "    </tr>\n",
              "  </tbody>\n",
              "</table>\n",
              "</div>"
            ],
            "text/plain": [
              "Average Alcohol Intake (# of drinks)  I drink juice   <1   1-2        3-4  \\\n",
              "Sleep Last Night (hrs)                                                      \n",
              "10+ hrs                                        9.00  NaN   NaN        NaN   \n",
              "8 - 10 hrs                                     9.75  9.0   9.0  12.333333   \n",
              "5 - 7 hrs                                     10.75  9.8  10.5   8.875000   \n",
              "\n",
              "Average Alcohol Intake (# of drinks)       5-6   7+  \n",
              "Sleep Last Night (hrs)                               \n",
              "10+ hrs                                    NaN  NaN  \n",
              "8 - 10 hrs                                 NaN  NaN  \n",
              "5 - 7 hrs                             9.333333  9.0  "
            ]
          },
          "metadata": {
            "tags": []
          },
          "execution_count": 37
        }
      ]
    },
    {
      "cell_type": "code",
      "metadata": {
        "id": "ikmdvh65EZu7",
        "outputId": "784873ba-5e28-48ee-da5f-1fb386459e56"
      },
      "source": [
        "sns.heatmap(sleep_alc_num, annot = True, cmap = \"Reds\")\n",
        "plt.title(\"Average Sleep and Alcohol Intake on Number Memory\", fontsize = 15)"
      ],
      "execution_count": null,
      "outputs": [
        {
          "output_type": "execute_result",
          "data": {
            "text/plain": [
              "Text(0.5, 1.0, 'Average Sleep and Alcohol Intake on Number Memory')"
            ]
          },
          "metadata": {
            "tags": []
          },
          "execution_count": 38
        },
        {
          "output_type": "display_data",
          "data": {
            "image/png": "[encoded data removed]",
            "text/plain": [
              "<Figure size 432x288 with 2 Axes>"
            ]
          },
          "metadata": {
            "tags": []
          }
        }
      ]
    },
    {
      "cell_type": "code",
      "metadata": {
        "id": "zJ0sfuGDEZu7",
        "outputId": "402d7447-38f8-419b-eeac-ce4a9da3cf2e"
      },
      "source": [
        "screen_alc_seq = pd.pivot_table(reduced, values = \"Sequence Memory\", index = \"Average Daily Screentime (hrs)\", columns = \"Average Alcohol Intake (# of drinks)\", aggfunc = np.average)\n",
        "screen_alc_seq = screen_alc_seq.reindex(index = [\"10+\", \"8-10\", \"6-8\", \"4-6\",\"2-4\"])\n",
        "screen_alc_seq = screen_alc_seq[[\"I drink juice\", \"<1\", \"1-2\", \"3-4\", \"5-6\", \"7+\"]]\n",
        "screen_alc_seq.head()"
      ],
      "execution_count": null,
      "outputs": [
        {
          "output_type": "execute_result",
          "data": {
            "text/html": [
              "<div>\n",
              "<style scoped>\n",
              "    .dataframe tbody tr th:only-of-type {\n",
              "        vertical-align: middle;\n",
              "    }\n",
              "\n",
              "    .dataframe tbody tr th {\n",
              "        vertical-align: top;\n",
              "    }\n",
              "\n",
              "    .dataframe thead th {\n",
              "        text-align: right;\n",
              "    }\n",
              "</style>\n",
              "<table border=\"1\" class=\"dataframe\">\n",
              "  <thead>\n",
              "    <tr style=\"text-align: right;\">\n",
              "      <th>Average Alcohol Intake (# of drinks)</th>\n",
              "      <th>I drink juice</th>\n",
              "      <th>&lt;1</th>\n",
              "      <th>1-2</th>\n",
              "      <th>3-4</th>\n",
              "      <th>5-6</th>\n",
              "      <th>7+</th>\n",
              "    </tr>\n",
              "    <tr>\n",
              "      <th>Average Daily Screentime (hrs)</th>\n",
              "      <th></th>\n",
              "      <th></th>\n",
              "      <th></th>\n",
              "      <th></th>\n",
              "      <th></th>\n",
              "      <th></th>\n",
              "    </tr>\n",
              "  </thead>\n",
              "  <tbody>\n",
              "    <tr>\n",
              "      <th>10+</th>\n",
              "      <td>10.0</td>\n",
              "      <td>8.000000</td>\n",
              "      <td>6.0</td>\n",
              "      <td>9.000000</td>\n",
              "      <td>NaN</td>\n",
              "      <td>NaN</td>\n",
              "    </tr>\n",
              "    <tr>\n",
              "      <th>8-10</th>\n",
              "      <td>NaN</td>\n",
              "      <td>22.000000</td>\n",
              "      <td>25.0</td>\n",
              "      <td>7.666667</td>\n",
              "      <td>NaN</td>\n",
              "      <td>NaN</td>\n",
              "    </tr>\n",
              "    <tr>\n",
              "      <th>6-8</th>\n",
              "      <td>11.0</td>\n",
              "      <td>NaN</td>\n",
              "      <td>8.8</td>\n",
              "      <td>11.333333</td>\n",
              "      <td>10.0</td>\n",
              "      <td>8.0</td>\n",
              "    </tr>\n",
              "    <tr>\n",
              "      <th>4-6</th>\n",
              "      <td>17.0</td>\n",
              "      <td>10.333333</td>\n",
              "      <td>7.6</td>\n",
              "      <td>12.000000</td>\n",
              "      <td>9.0</td>\n",
              "      <td>12.0</td>\n",
              "    </tr>\n",
              "    <tr>\n",
              "      <th>2-4</th>\n",
              "      <td>9.0</td>\n",
              "      <td>NaN</td>\n",
              "      <td>NaN</td>\n",
              "      <td>11.000000</td>\n",
              "      <td>NaN</td>\n",
              "      <td>14.0</td>\n",
              "    </tr>\n",
              "  </tbody>\n",
              "</table>\n",
              "</div>"
            ],
            "text/plain": [
              "Average Alcohol Intake (# of drinks)  I drink juice         <1   1-2  \\\n",
              "Average Daily Screentime (hrs)                                         \n",
              "10+                                            10.0   8.000000   6.0   \n",
              "8-10                                            NaN  22.000000  25.0   \n",
              "6-8                                            11.0        NaN   8.8   \n",
              "4-6                                            17.0  10.333333   7.6   \n",
              "2-4                                             9.0        NaN   NaN   \n",
              "\n",
              "Average Alcohol Intake (# of drinks)        3-4   5-6    7+  \n",
              "Average Daily Screentime (hrs)                               \n",
              "10+                                    9.000000   NaN   NaN  \n",
              "8-10                                   7.666667   NaN   NaN  \n",
              "6-8                                   11.333333  10.0   8.0  \n",
              "4-6                                   12.000000   9.0  12.0  \n",
              "2-4                                   11.000000   NaN  14.0  "
            ]
          },
          "metadata": {
            "tags": []
          },
          "execution_count": 39
        }
      ]
    },
    {
      "cell_type": "code",
      "metadata": {
        "id": "hj_nzQ0mEZu7",
        "outputId": "1c23c3c1-c406-4d6b-e1c3-91f51baebbf7"
      },
      "source": [
        "sns.heatmap(screen_alc_seq, annot = True, cmap = \"Oranges\")\n",
        "plt.title(\"Average Screentime and Alcohol Intake on Sequence Memory\", fontsize = 15)"
      ],
      "execution_count": null,
      "outputs": [
        {
          "output_type": "execute_result",
          "data": {
            "text/plain": [
              "Text(0.5, 1.0, 'Average Screentime and Alcohol Intake on Sequence Memory')"
            ]
          },
          "metadata": {
            "tags": []
          },
          "execution_count": 40
        },
        {
          "output_type": "display_data",
          "data": {
            "image/png": "[encoded data removed]",
            "text/plain": [
              "<Figure size 432x288 with 2 Axes>"
            ]
          },
          "metadata": {
            "tags": []
          }
        }
      ]
    },
    {
      "cell_type": "code",
      "metadata": {
        "id": "rnyzCjWTEZu8",
        "outputId": "36886dd2-0f15-4ce7-e73d-19dc184aecf3"
      },
      "source": [
        "screen_sleep_seq = pd.pivot_table(reduced, values = \"Sequence Memory\", index = \"Average Daily Screentime (hrs)\", columns = \"Sleep Last Night (hrs)\", aggfunc = np.average)\n",
        "screen_sleep_seq = screen_sleep_seq.reindex(index = [\"10+\", \"8-10\", \"6-8\", \"4-6\",\"2-4\"])\n",
        "screen_sleep_seq = screen_sleep_seq[[\"5 - 7 hrs\", \"8 - 10 hrs\", \"10+ hrs\"]]\n",
        "screen_sleep_seq.head()"
      ],
      "execution_count": null,
      "outputs": [
        {
          "output_type": "execute_result",
          "data": {
            "text/html": [
              "<div>\n",
              "<style scoped>\n",
              "    .dataframe tbody tr th:only-of-type {\n",
              "        vertical-align: middle;\n",
              "    }\n",
              "\n",
              "    .dataframe tbody tr th {\n",
              "        vertical-align: top;\n",
              "    }\n",
              "\n",
              "    .dataframe thead th {\n",
              "        text-align: right;\n",
              "    }\n",
              "</style>\n",
              "<table border=\"1\" class=\"dataframe\">\n",
              "  <thead>\n",
              "    <tr style=\"text-align: right;\">\n",
              "      <th>Sleep Last Night (hrs)</th>\n",
              "      <th>5 - 7 hrs</th>\n",
              "      <th>8 - 10 hrs</th>\n",
              "      <th>10+ hrs</th>\n",
              "    </tr>\n",
              "    <tr>\n",
              "      <th>Average Daily Screentime (hrs)</th>\n",
              "      <th></th>\n",
              "      <th></th>\n",
              "      <th></th>\n",
              "    </tr>\n",
              "  </thead>\n",
              "  <tbody>\n",
              "    <tr>\n",
              "      <th>10+</th>\n",
              "      <td>9.000000</td>\n",
              "      <td>8.0</td>\n",
              "      <td>NaN</td>\n",
              "    </tr>\n",
              "    <tr>\n",
              "      <th>8-10</th>\n",
              "      <td>10.333333</td>\n",
              "      <td>19.5</td>\n",
              "      <td>NaN</td>\n",
              "    </tr>\n",
              "    <tr>\n",
              "      <th>6-8</th>\n",
              "      <td>9.125000</td>\n",
              "      <td>11.2</td>\n",
              "      <td>NaN</td>\n",
              "    </tr>\n",
              "    <tr>\n",
              "      <th>4-6</th>\n",
              "      <td>10.700000</td>\n",
              "      <td>7.0</td>\n",
              "      <td>17.0</td>\n",
              "    </tr>\n",
              "    <tr>\n",
              "      <th>2-4</th>\n",
              "      <td>10.500000</td>\n",
              "      <td>8.5</td>\n",
              "      <td>NaN</td>\n",
              "    </tr>\n",
              "  </tbody>\n",
              "</table>\n",
              "</div>"
            ],
            "text/plain": [
              "Sleep Last Night (hrs)          5 - 7 hrs  8 - 10 hrs  10+ hrs\n",
              "Average Daily Screentime (hrs)                                \n",
              "10+                              9.000000         8.0      NaN\n",
              "8-10                            10.333333        19.5      NaN\n",
              "6-8                              9.125000        11.2      NaN\n",
              "4-6                             10.700000         7.0     17.0\n",
              "2-4                             10.500000         8.5      NaN"
            ]
          },
          "metadata": {
            "tags": []
          },
          "execution_count": 42
        }
      ]
    },
    {
      "cell_type": "code",
      "metadata": {
        "id": "fHWazCl4EZu8",
        "outputId": "eb04a3a8-6fd4-422b-c6ed-93325ffbb341"
      },
      "source": [
        "sns.heatmap(screen_sleep_seq, annot = True, cmap = \"Oranges\")\n",
        "plt.title(\"Average Screentime and Sleep on Sequence Memory\", fontsize = 15)"
      ],
      "execution_count": null,
      "outputs": [
        {
          "output_type": "execute_result",
          "data": {
            "text/plain": [
              "Text(0.5, 1.0, 'Average Screentime and Sleep on Sequence Memory')"
            ]
          },
          "metadata": {
            "tags": []
          },
          "execution_count": 43
        },
        {
          "output_type": "display_data",
          "data": {
            "image/png": "[encoded data removed]",
            "text/plain": [
              "<Figure size 432x288 with 2 Axes>"
            ]
          },
          "metadata": {
            "tags": []
          }
        }
      ]
    },
    {
      "cell_type": "code",
      "metadata": {
        "id": "Kys-_jJCEZu8",
        "outputId": "e6f4ccf7-e0b4-4aed-dcf2-612dd399ea7a"
      },
      "source": [
        "sleep_alc_seq = pd.pivot_table(reduced, values = \"Sequence Memory\", index = \"Sleep Last Night (hrs)\", columns = \"Average Alcohol Intake (# of drinks)\", aggfunc = np.average)\n",
        "sleep_alc_seq = sleep_alc_seq.reindex(index = [\"10+ hrs\", \"8 - 10 hrs\", \"5 - 7 hrs\"])\n",
        "sleep_alc_seq = sleep_alc_seq[[\"I drink juice\", \"<1\", \"1-2\", \"3-4\", \"5-6\", \"7+\"]]\n",
        "sleep_alc_seq.head()"
      ],
      "execution_count": null,
      "outputs": [
        {
          "output_type": "execute_result",
          "data": {
            "text/html": [
              "<div>\n",
              "<style scoped>\n",
              "    .dataframe tbody tr th:only-of-type {\n",
              "        vertical-align: middle;\n",
              "    }\n",
              "\n",
              "    .dataframe tbody tr th {\n",
              "        vertical-align: top;\n",
              "    }\n",
              "\n",
              "    .dataframe thead th {\n",
              "        text-align: right;\n",
              "    }\n",
              "</style>\n",
              "<table border=\"1\" class=\"dataframe\">\n",
              "  <thead>\n",
              "    <tr style=\"text-align: right;\">\n",
              "      <th>Average Alcohol Intake (# of drinks)</th>\n",
              "      <th>I drink juice</th>\n",
              "      <th>&lt;1</th>\n",
              "      <th>1-2</th>\n",
              "      <th>3-4</th>\n",
              "      <th>5-6</th>\n",
              "      <th>7+</th>\n",
              "    </tr>\n",
              "    <tr>\n",
              "      <th>Sleep Last Night (hrs)</th>\n",
              "      <th></th>\n",
              "      <th></th>\n",
              "      <th></th>\n",
              "      <th></th>\n",
              "      <th></th>\n",
              "      <th></th>\n",
              "    </tr>\n",
              "  </thead>\n",
              "  <tbody>\n",
              "    <tr>\n",
              "      <th>10+ hrs</th>\n",
              "      <td>17.00</td>\n",
              "      <td>NaN</td>\n",
              "      <td>NaN</td>\n",
              "      <td>NaN</td>\n",
              "      <td>NaN</td>\n",
              "      <td>NaN</td>\n",
              "    </tr>\n",
              "    <tr>\n",
              "      <th>8 - 10 hrs</th>\n",
              "      <td>10.25</td>\n",
              "      <td>6.0</td>\n",
              "      <td>9.625</td>\n",
              "      <td>13.333333</td>\n",
              "      <td>NaN</td>\n",
              "      <td>NaN</td>\n",
              "    </tr>\n",
              "    <tr>\n",
              "      <th>5 - 7 hrs</th>\n",
              "      <td>9.75</td>\n",
              "      <td>12.6</td>\n",
              "      <td>9.000</td>\n",
              "      <td>8.750000</td>\n",
              "      <td>9.333333</td>\n",
              "      <td>10.666667</td>\n",
              "    </tr>\n",
              "  </tbody>\n",
              "</table>\n",
              "</div>"
            ],
            "text/plain": [
              "Average Alcohol Intake (# of drinks)  I drink juice    <1    1-2        3-4  \\\n",
              "Sleep Last Night (hrs)                                                        \n",
              "10+ hrs                                       17.00   NaN    NaN        NaN   \n",
              "8 - 10 hrs                                    10.25   6.0  9.625  13.333333   \n",
              "5 - 7 hrs                                      9.75  12.6  9.000   8.750000   \n",
              "\n",
              "Average Alcohol Intake (# of drinks)       5-6         7+  \n",
              "Sleep Last Night (hrs)                                     \n",
              "10+ hrs                                    NaN        NaN  \n",
              "8 - 10 hrs                                 NaN        NaN  \n",
              "5 - 7 hrs                             9.333333  10.666667  "
            ]
          },
          "metadata": {
            "tags": []
          },
          "execution_count": 45
        }
      ]
    },
    {
      "cell_type": "code",
      "metadata": {
        "id": "_8PIcyL_EZu9",
        "outputId": "6525c784-a24e-4030-e772-3c10dec83c77"
      },
      "source": [
        "sns.heatmap(screen_alc_seq, annot = True, cmap = \"Oranges\")\n",
        "plt.title(\"Average Screentime and Alcohol Intake on Sequence Memory\", fontsize = 15)"
      ],
      "execution_count": null,
      "outputs": [
        {
          "output_type": "execute_result",
          "data": {
            "text/plain": [
              "Text(0.5, 1.0, 'Average Screentime and Alcohol Intake on Sequence Memory')"
            ]
          },
          "metadata": {
            "tags": []
          },
          "execution_count": 46
        },
        {
          "output_type": "display_data",
          "data": {
            "image/png": "[encoded data removed]",
            "text/plain": [
              "<Figure size 432x288 with 2 Axes>"
            ]
          },
          "metadata": {
            "tags": []
          }
        }
      ]
    },
    {
      "cell_type": "code",
      "metadata": {
        "id": "9weuDmn3EZu9",
        "outputId": "33041cd4-3052-483b-92aa-8e01622d11e8"
      },
      "source": [
        "screen_alc_vis = pd.pivot_table(reduced, values = \"Visual Memory\", index = \"Average Daily Screentime (hrs)\", columns = \"Average Alcohol Intake (# of drinks)\", aggfunc = np.average)\n",
        "screen_alc_vis = screen_alc_vis.reindex(index = [\"10+\", \"8-10\", \"6-8\", \"4-6\",\"2-4\"])\n",
        "screen_alc_vis = screen_alc_vis[[\"I drink juice\", \"<1\", \"1-2\", \"3-4\", \"5-6\", \"7+\"]]\n",
        "screen_alc_vis.head()"
      ],
      "execution_count": null,
      "outputs": [
        {
          "output_type": "execute_result",
          "data": {
            "text/html": [
              "<div>\n",
              "<style scoped>\n",
              "    .dataframe tbody tr th:only-of-type {\n",
              "        vertical-align: middle;\n",
              "    }\n",
              "\n",
              "    .dataframe tbody tr th {\n",
              "        vertical-align: top;\n",
              "    }\n",
              "\n",
              "    .dataframe thead th {\n",
              "        text-align: right;\n",
              "    }\n",
              "</style>\n",
              "<table border=\"1\" class=\"dataframe\">\n",
              "  <thead>\n",
              "    <tr style=\"text-align: right;\">\n",
              "      <th>Average Alcohol Intake (# of drinks)</th>\n",
              "      <th>I drink juice</th>\n",
              "      <th>&lt;1</th>\n",
              "      <th>1-2</th>\n",
              "      <th>3-4</th>\n",
              "      <th>5-6</th>\n",
              "      <th>7+</th>\n",
              "    </tr>\n",
              "    <tr>\n",
              "      <th>Average Daily Screentime (hrs)</th>\n",
              "      <th></th>\n",
              "      <th></th>\n",
              "      <th></th>\n",
              "      <th></th>\n",
              "      <th></th>\n",
              "      <th></th>\n",
              "    </tr>\n",
              "  </thead>\n",
              "  <tbody>\n",
              "    <tr>\n",
              "      <th>10+</th>\n",
              "      <td>11.500000</td>\n",
              "      <td>12.500000</td>\n",
              "      <td>9.0</td>\n",
              "      <td>11.000000</td>\n",
              "      <td>NaN</td>\n",
              "      <td>NaN</td>\n",
              "    </tr>\n",
              "    <tr>\n",
              "      <th>8-10</th>\n",
              "      <td>NaN</td>\n",
              "      <td>15.000000</td>\n",
              "      <td>11.0</td>\n",
              "      <td>10.000000</td>\n",
              "      <td>NaN</td>\n",
              "      <td>NaN</td>\n",
              "    </tr>\n",
              "    <tr>\n",
              "      <th>6-8</th>\n",
              "      <td>10.666667</td>\n",
              "      <td>NaN</td>\n",
              "      <td>11.2</td>\n",
              "      <td>11.333333</td>\n",
              "      <td>10.0</td>\n",
              "      <td>8.0</td>\n",
              "    </tr>\n",
              "    <tr>\n",
              "      <th>4-6</th>\n",
              "      <td>14.000000</td>\n",
              "      <td>10.333333</td>\n",
              "      <td>11.0</td>\n",
              "      <td>13.000000</td>\n",
              "      <td>9.5</td>\n",
              "      <td>10.0</td>\n",
              "    </tr>\n",
              "    <tr>\n",
              "      <th>2-4</th>\n",
              "      <td>14.000000</td>\n",
              "      <td>NaN</td>\n",
              "      <td>NaN</td>\n",
              "      <td>13.000000</td>\n",
              "      <td>NaN</td>\n",
              "      <td>15.0</td>\n",
              "    </tr>\n",
              "  </tbody>\n",
              "</table>\n",
              "</div>"
            ],
            "text/plain": [
              "Average Alcohol Intake (# of drinks)  I drink juice         <1   1-2  \\\n",
              "Average Daily Screentime (hrs)                                         \n",
              "10+                                       11.500000  12.500000   9.0   \n",
              "8-10                                            NaN  15.000000  11.0   \n",
              "6-8                                       10.666667        NaN  11.2   \n",
              "4-6                                       14.000000  10.333333  11.0   \n",
              "2-4                                       14.000000        NaN   NaN   \n",
              "\n",
              "Average Alcohol Intake (# of drinks)        3-4   5-6    7+  \n",
              "Average Daily Screentime (hrs)                               \n",
              "10+                                   11.000000   NaN   NaN  \n",
              "8-10                                  10.000000   NaN   NaN  \n",
              "6-8                                   11.333333  10.0   8.0  \n",
              "4-6                                   13.000000   9.5  10.0  \n",
              "2-4                                   13.000000   NaN  15.0  "
            ]
          },
          "metadata": {
            "tags": []
          },
          "execution_count": 47
        }
      ]
    },
    {
      "cell_type": "code",
      "metadata": {
        "id": "6fizyRXaEZu9",
        "outputId": "447c15ad-f406-4ae3-abe2-e1d793fb675d"
      },
      "source": [
        "sns.heatmap(screen_alc_vis, annot = True, cmap = \"Greens\")\n",
        "plt.title(\"Average Screentime and Alcohol Intake on Visual Memory\", fontsize = 15)"
      ],
      "execution_count": null,
      "outputs": [
        {
          "output_type": "execute_result",
          "data": {
            "text/plain": [
              "Text(0.5, 1.0, 'Average Screentime and Alcohol Intake on Visual Memory')"
            ]
          },
          "metadata": {
            "tags": []
          },
          "execution_count": 48
        },
        {
          "output_type": "display_data",
          "data": {
            "image/png": "[encoded data removed]",
            "text/plain": [
              "<Figure size 432x288 with 2 Axes>"
            ]
          },
          "metadata": {
            "tags": []
          }
        }
      ]
    },
    {
      "cell_type": "code",
      "metadata": {
        "id": "OVh-YJjEEZu9",
        "outputId": "4612d8a7-e331-42cf-84aa-0707aeda3706"
      },
      "source": [
        "screen_sleep_vis = pd.pivot_table(reduced, values = \"Visual Memory\", index = \"Average Daily Screentime (hrs)\", columns = \"Sleep Last Night (hrs)\", aggfunc = np.average)\n",
        "screen_sleep_vis = screen_sleep_vis.reindex(index = [\"10+\", \"8-10\", \"6-8\", \"4-6\",\"2-4\"])\n",
        "screen_sleep_vis = screen_sleep_vis[[\"5 - 7 hrs\", \"8 - 10 hrs\", \"10+ hrs\"]]\n",
        "screen_sleep_vis.head()"
      ],
      "execution_count": null,
      "outputs": [
        {
          "output_type": "execute_result",
          "data": {
            "text/html": [
              "<div>\n",
              "<style scoped>\n",
              "    .dataframe tbody tr th:only-of-type {\n",
              "        vertical-align: middle;\n",
              "    }\n",
              "\n",
              "    .dataframe tbody tr th {\n",
              "        vertical-align: top;\n",
              "    }\n",
              "\n",
              "    .dataframe thead th {\n",
              "        text-align: right;\n",
              "    }\n",
              "</style>\n",
              "<table border=\"1\" class=\"dataframe\">\n",
              "  <thead>\n",
              "    <tr style=\"text-align: right;\">\n",
              "      <th>Sleep Last Night (hrs)</th>\n",
              "      <th>5 - 7 hrs</th>\n",
              "      <th>8 - 10 hrs</th>\n",
              "      <th>10+ hrs</th>\n",
              "    </tr>\n",
              "    <tr>\n",
              "      <th>Average Daily Screentime (hrs)</th>\n",
              "      <th></th>\n",
              "      <th></th>\n",
              "      <th></th>\n",
              "    </tr>\n",
              "  </thead>\n",
              "  <tbody>\n",
              "    <tr>\n",
              "      <th>10+</th>\n",
              "      <td>11.000000</td>\n",
              "      <td>11.666667</td>\n",
              "      <td>NaN</td>\n",
              "    </tr>\n",
              "    <tr>\n",
              "      <th>8-10</th>\n",
              "      <td>10.666667</td>\n",
              "      <td>12.000000</td>\n",
              "      <td>NaN</td>\n",
              "    </tr>\n",
              "    <tr>\n",
              "      <th>6-8</th>\n",
              "      <td>9.375000</td>\n",
              "      <td>13.000000</td>\n",
              "      <td>NaN</td>\n",
              "    </tr>\n",
              "    <tr>\n",
              "      <th>4-6</th>\n",
              "      <td>10.900000</td>\n",
              "      <td>10.500000</td>\n",
              "      <td>14.0</td>\n",
              "    </tr>\n",
              "    <tr>\n",
              "      <th>2-4</th>\n",
              "      <td>16.000000</td>\n",
              "      <td>11.500000</td>\n",
              "      <td>NaN</td>\n",
              "    </tr>\n",
              "  </tbody>\n",
              "</table>\n",
              "</div>"
            ],
            "text/plain": [
              "Sleep Last Night (hrs)          5 - 7 hrs  8 - 10 hrs  10+ hrs\n",
              "Average Daily Screentime (hrs)                                \n",
              "10+                             11.000000   11.666667      NaN\n",
              "8-10                            10.666667   12.000000      NaN\n",
              "6-8                              9.375000   13.000000      NaN\n",
              "4-6                             10.900000   10.500000     14.0\n",
              "2-4                             16.000000   11.500000      NaN"
            ]
          },
          "metadata": {
            "tags": []
          },
          "execution_count": 50
        }
      ]
    },
    {
      "cell_type": "code",
      "metadata": {
        "id": "liGIFYq0EZu-",
        "outputId": "909485d7-34c2-4ea9-ada7-3d30dc104fa2"
      },
      "source": [
        "sns.heatmap(screen_sleep_vis, annot = True, cmap = \"Greens\")\n",
        "plt.title(\"Average Screentime and Sleep on Visual Memory\", fontsize = 15)"
      ],
      "execution_count": null,
      "outputs": [
        {
          "output_type": "execute_result",
          "data": {
            "text/plain": [
              "Text(0.5, 1.0, 'Average Screentime and Sleep on Visual Memory')"
            ]
          },
          "metadata": {
            "tags": []
          },
          "execution_count": 51
        },
        {
          "output_type": "display_data",
          "data": {
            "image/png": "[encoded data removed]",
            "text/plain": [
              "<Figure size 432x288 with 2 Axes>"
            ]
          },
          "metadata": {
            "tags": []
          }
        }
      ]
    },
    {
      "cell_type": "code",
      "metadata": {
        "id": "IfBBMBI_EZu-",
        "outputId": "76a8d275-596e-4f0c-ea1b-4e4b44e34232"
      },
      "source": [
        "sleep_alc_vis = pd.pivot_table(reduced, values = \"Visual Memory\", index = \"Sleep Last Night (hrs)\", columns = \"Average Alcohol Intake (# of drinks)\", aggfunc = np.average)\n",
        "sleep_alc_vis = sleep_alc_vis.reindex(index = [\"10+ hrs\", \"8 - 10 hrs\", \"5 - 7 hrs\"])\n",
        "sleep_alc_vis = sleep_alc_vis[[\"I drink juice\", \"<1\", \"1-2\", \"3-4\", \"5-6\", \"7+\"]]\n",
        "sleep_alc_vis.head()"
      ],
      "execution_count": null,
      "outputs": [
        {
          "output_type": "execute_result",
          "data": {
            "text/html": [
              "<div>\n",
              "<style scoped>\n",
              "    .dataframe tbody tr th:only-of-type {\n",
              "        vertical-align: middle;\n",
              "    }\n",
              "\n",
              "    .dataframe tbody tr th {\n",
              "        vertical-align: top;\n",
              "    }\n",
              "\n",
              "    .dataframe thead th {\n",
              "        text-align: right;\n",
              "    }\n",
              "</style>\n",
              "<table border=\"1\" class=\"dataframe\">\n",
              "  <thead>\n",
              "    <tr style=\"text-align: right;\">\n",
              "      <th>Average Alcohol Intake (# of drinks)</th>\n",
              "      <th>I drink juice</th>\n",
              "      <th>&lt;1</th>\n",
              "      <th>1-2</th>\n",
              "      <th>3-4</th>\n",
              "      <th>5-6</th>\n",
              "      <th>7+</th>\n",
              "    </tr>\n",
              "    <tr>\n",
              "      <th>Sleep Last Night (hrs)</th>\n",
              "      <th></th>\n",
              "      <th></th>\n",
              "      <th></th>\n",
              "      <th></th>\n",
              "      <th></th>\n",
              "      <th></th>\n",
              "    </tr>\n",
              "  </thead>\n",
              "  <tbody>\n",
              "    <tr>\n",
              "      <th>10+ hrs</th>\n",
              "      <td>14.00</td>\n",
              "      <td>NaN</td>\n",
              "      <td>NaN</td>\n",
              "      <td>NaN</td>\n",
              "      <td>NaN</td>\n",
              "      <td>NaN</td>\n",
              "    </tr>\n",
              "    <tr>\n",
              "      <th>8 - 10 hrs</th>\n",
              "      <td>10.75</td>\n",
              "      <td>15.0</td>\n",
              "      <td>11.125</td>\n",
              "      <td>14.000</td>\n",
              "      <td>NaN</td>\n",
              "      <td>NaN</td>\n",
              "    </tr>\n",
              "    <tr>\n",
              "      <th>5 - 7 hrs</th>\n",
              "      <td>13.50</td>\n",
              "      <td>11.2</td>\n",
              "      <td>10.500</td>\n",
              "      <td>10.375</td>\n",
              "      <td>9.666667</td>\n",
              "      <td>9.333333</td>\n",
              "    </tr>\n",
              "  </tbody>\n",
              "</table>\n",
              "</div>"
            ],
            "text/plain": [
              "Average Alcohol Intake (# of drinks)  I drink juice    <1     1-2     3-4  \\\n",
              "Sleep Last Night (hrs)                                                      \n",
              "10+ hrs                                       14.00   NaN     NaN     NaN   \n",
              "8 - 10 hrs                                    10.75  15.0  11.125  14.000   \n",
              "5 - 7 hrs                                     13.50  11.2  10.500  10.375   \n",
              "\n",
              "Average Alcohol Intake (# of drinks)       5-6        7+  \n",
              "Sleep Last Night (hrs)                                    \n",
              "10+ hrs                                    NaN       NaN  \n",
              "8 - 10 hrs                                 NaN       NaN  \n",
              "5 - 7 hrs                             9.666667  9.333333  "
            ]
          },
          "metadata": {
            "tags": []
          },
          "execution_count": 52
        }
      ]
    },
    {
      "cell_type": "code",
      "metadata": {
        "id": "B9w2GXqCEZu_",
        "outputId": "7c1aebaa-dfbb-4ae3-fc61-696c09311266"
      },
      "source": [
        "sns.heatmap(sleep_alc_vis, annot = True, cmap = \"Greens\")\n",
        "plt.title(\"Average Screentime and Sleep on Visual Memory\", fontsize = 15)"
      ],
      "execution_count": null,
      "outputs": [
        {
          "output_type": "execute_result",
          "data": {
            "text/plain": [
              "Text(0.5, 1.0, 'Average Screentime and Sleep on Visual Memory')"
            ]
          },
          "metadata": {
            "tags": []
          },
          "execution_count": 53
        },
        {
          "output_type": "display_data",
          "data": {
            "image/png": "[encoded data removed]",
            "text/plain": [
              "<Figure size 432x288 with 2 Axes>"
            ]
          },
          "metadata": {
            "tags": []
          }
        }
      ]
    },
    {
      "cell_type": "code",
      "metadata": {
        "id": "VcHXsbXeEZu_"
      },
      "source": [
        ""
      ],
      "execution_count": null,
      "outputs": []
    }
  ]
}